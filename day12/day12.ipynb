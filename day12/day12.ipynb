{
 "cells": [
  {
   "cell_type": "markdown",
   "metadata": {},
   "source": [
    "# Day 12: Passage Pathing\n",
    "\n",
    "[https://adventofcode.com/2021/day/12](https://adventofcode.com/2021/day/12)\n",
    "\n",
    "## Description\n",
    "\n",
    "### Part One\n",
    "\n",
    "With your <span title=\"Sublime.\">submarine's subterranean subsystems subsisting suboptimally</span>, the only way you're getting out of this cave anytime soon is by finding a path yourself. Not just _a_ path - the only way to know if you've found the _best_ path is to find _all_ of them.\n",
    "\n",
    "Fortunately, the sensors are still mostly working, and so you build a rough map of the remaining caves (your puzzle input). For example:\n",
    "\n",
    "    start-A\n",
    "    start-b\n",
    "    A-c\n",
    "    A-b\n",
    "    b-d\n",
    "    A-end\n",
    "    b-end\n",
    "    \n",
    "\n",
    "This is a list of how all of the caves are connected. You start in the cave named `start`, and your destination is the cave named `end`. An entry like `b-d` means that cave `b` is connected to cave `d` - that is, you can move between them.\n",
    "\n",
    "So, the above cave system looks roughly like this:\n",
    "\n",
    "        start\n",
    "        /   \\\n",
    "    c--A-----b--d\n",
    "        \\   /\n",
    "         end\n",
    "    \n",
    "\n",
    "Your goal is to find the number of distinct _paths_ that start at `start`, end at `end`, and don't visit small caves more than once. There are two types of caves: _big_ caves (written in uppercase, like `A`) and _small_ caves (written in lowercase, like `b`). It would be a waste of time to visit any small cave more than once, but big caves are large enough that it might be worth visiting them multiple times. So, all paths you find should _visit small caves at most once_, and can _visit big caves any number of times_.\n",
    "\n",
    "Given these rules, there are _`10`_ paths through this example cave system:\n",
    "\n",
    "    start,A,b,A,c,A,end\n",
    "    start,A,b,A,end\n",
    "    start,A,b,end\n",
    "    start,A,c,A,b,A,end\n",
    "    start,A,c,A,b,end\n",
    "    start,A,c,A,end\n",
    "    start,A,end\n",
    "    start,b,A,c,A,end\n",
    "    start,b,A,end\n",
    "    start,b,end\n",
    "    \n",
    "\n",
    "(Each line in the above list corresponds to a single path; the caves visited by that path are listed in the order they are visited and separated by commas.)\n",
    "\n",
    "Note that in this cave system, cave `d` is never visited by any path: to do so, cave `b` would need to be visited twice (once on the way to cave `d` and a second time when returning from cave `d`), and since cave `b` is small, this is not allowed.\n",
    "\n",
    "Here is a slightly larger example:\n",
    "\n",
    "    dc-end\n",
    "    HN-start\n",
    "    start-kj\n",
    "    dc-start\n",
    "    dc-HN\n",
    "    LN-dc\n",
    "    HN-end\n",
    "    kj-sa\n",
    "    kj-HN\n",
    "    kj-dc\n",
    "    \n",
    "\n",
    "The `19` paths through it are as follows:\n",
    "\n",
    "    start,HN,dc,HN,end\n",
    "    start,HN,dc,HN,kj,HN,end\n",
    "    start,HN,dc,end\n",
    "    start,HN,dc,kj,HN,end\n",
    "    start,HN,end\n",
    "    start,HN,kj,HN,dc,HN,end\n",
    "    start,HN,kj,HN,dc,end\n",
    "    start,HN,kj,HN,end\n",
    "    start,HN,kj,dc,HN,end\n",
    "    start,HN,kj,dc,end\n",
    "    start,dc,HN,end\n",
    "    start,dc,HN,kj,HN,end\n",
    "    start,dc,end\n",
    "    start,dc,kj,HN,end\n",
    "    start,kj,HN,dc,HN,end\n",
    "    start,kj,HN,dc,end\n",
    "    start,kj,HN,end\n",
    "    start,kj,dc,HN,end\n",
    "    start,kj,dc,end\n",
    "    \n",
    "\n",
    "Finally, this even larger example has `226` paths through it:\n",
    "\n",
    "    fs-end\n",
    "    he-DX\n",
    "    fs-he\n",
    "    start-DX\n",
    "    pj-DX\n",
    "    end-zg\n",
    "    zg-sl\n",
    "    zg-pj\n",
    "    pj-he\n",
    "    RW-he\n",
    "    fs-DX\n",
    "    pj-RW\n",
    "    zg-RW\n",
    "    start-pj\n",
    "    he-WI\n",
    "    zg-he\n",
    "    pj-fs\n",
    "    start-RW\n",
    "    \n",
    "\n",
    "_How many paths through this cave system are there that visit small caves at most once?_\n",
    "\n",
    "### Part Two\n",
    "\n",
    "After reviewing the available paths, you realize you might have time to visit a single small cave _twice_. Specifically, big caves can be visited any number of times, a single small cave can be visited at most twice, and the remaining small caves can be visited at most once. However, the caves named `start` and `end` can only be visited _exactly once each_: once you leave the `start` cave, you may not return to it, and once you reach the `end` cave, the path must end immediately.\n",
    "\n",
    "Now, the `36` possible paths through the first example above are:\n",
    "\n",
    "    start,A,b,A,b,A,c,A,end\n",
    "    start,A,b,A,b,A,end\n",
    "    start,A,b,A,b,end\n",
    "    start,A,b,A,c,A,b,A,end\n",
    "    start,A,b,A,c,A,b,end\n",
    "    start,A,b,A,c,A,c,A,end\n",
    "    start,A,b,A,c,A,end\n",
    "    start,A,b,A,end\n",
    "    start,A,b,d,b,A,c,A,end\n",
    "    start,A,b,d,b,A,end\n",
    "    start,A,b,d,b,end\n",
    "    start,A,b,end\n",
    "    start,A,c,A,b,A,b,A,end\n",
    "    start,A,c,A,b,A,b,end\n",
    "    start,A,c,A,b,A,c,A,end\n",
    "    start,A,c,A,b,A,end\n",
    "    start,A,c,A,b,d,b,A,end\n",
    "    start,A,c,A,b,d,b,end\n",
    "    start,A,c,A,b,end\n",
    "    start,A,c,A,c,A,b,A,end\n",
    "    start,A,c,A,c,A,b,end\n",
    "    start,A,c,A,c,A,end\n",
    "    start,A,c,A,end\n",
    "    start,A,end\n",
    "    start,b,A,b,A,c,A,end\n",
    "    start,b,A,b,A,end\n",
    "    start,b,A,b,end\n",
    "    start,b,A,c,A,b,A,end\n",
    "    start,b,A,c,A,b,end\n",
    "    start,b,A,c,A,c,A,end\n",
    "    start,b,A,c,A,end\n",
    "    start,b,A,end\n",
    "    start,b,d,b,A,c,A,end\n",
    "    start,b,d,b,A,end\n",
    "    start,b,d,b,end\n",
    "    start,b,end\n",
    "    \n",
    "\n",
    "The slightly larger example above now has `103` paths through it, and the even larger example now has `3509` paths through it.\n",
    "\n",
    "Given these new rules, _how many paths through this cave system are there?_\n"
   ]
  },
  {
   "cell_type": "code",
   "execution_count": 52,
   "metadata": {},
   "outputs": [],
   "source": [
    "import numpy as np\n",
    "import copy\n",
    "from time import perf_counter\n",
    "from collections import Counter"
   ]
  },
  {
   "cell_type": "code",
   "execution_count": 53,
   "metadata": {},
   "outputs": [],
   "source": [
    "f = open(\"example10.txt\", \"r\")\n",
    "rawstring = f.read()\n",
    "f.close()"
   ]
  },
  {
   "cell_type": "code",
   "execution_count": 54,
   "metadata": {},
   "outputs": [],
   "source": [
    "class Cave():\n",
    "    def __init__(self,name):\n",
    "        self.name = name\n",
    "        self.connections = set()\n",
    "        self.small = False if name.upper() == name else True\n",
    "    \n",
    "    def addConnection(self, otherName):\n",
    "        for j in caves:\n",
    "            if otherName == j.name:\n",
    "                self.connections.add(j)"
   ]
  },
  {
   "cell_type": "code",
   "execution_count": 55,
   "metadata": {},
   "outputs": [],
   "source": [
    "\n",
    "def parseConnection(a,b):\n",
    "    for i in [a,b]:\n",
    "        if i not in [cave.name for cave in caves]:\n",
    "            caves.add(Cave(i))\n",
    "    for i in [a,b]:\n",
    "        for j in caves:\n",
    "            if j.name == i:\n",
    "                j.addConnection(b if i == a else a)\n"
   ]
  },
  {
   "cell_type": "code",
   "execution_count": 56,
   "metadata": {},
   "outputs": [
    {
     "data": {
      "text/plain": [
       "['start-A', 'start-b', 'A-c', 'A-b', 'b-d', 'A-end', 'b-end']"
      ]
     },
     "execution_count": 56,
     "metadata": {},
     "output_type": "execute_result"
    }
   ],
   "source": [
    "rawstring.splitlines()"
   ]
  },
  {
   "cell_type": "code",
   "execution_count": 57,
   "metadata": {},
   "outputs": [
    {
     "data": {
      "text/plain": [
       "{<__main__.Cave at 0x7f320c422460>,\n",
       " <__main__.Cave at 0x7f320c422820>,\n",
       " <__main__.Cave at 0x7f320c4229d0>,\n",
       " <__main__.Cave at 0x7f320c422ee0>,\n",
       " <__main__.Cave at 0x7f320c429070>,\n",
       " <__main__.Cave at 0x7f320c4292b0>}"
      ]
     },
     "execution_count": 57,
     "metadata": {},
     "output_type": "execute_result"
    }
   ],
   "source": [
    "caves = set()\n",
    "input = [line.split(\"-\") for line in [line for  line in rawstring.splitlines()]]\n",
    "for line in input:\n",
    "    parseConnection(*line)\n",
    "\n",
    "caves"
   ]
  },
  {
   "cell_type": "code",
   "execution_count": 58,
   "metadata": {},
   "outputs": [],
   "source": [
    "end = -1\n",
    "start = -1\n",
    "for i in list(caves):\n",
    "    if i.name == \"end\":\n",
    "        end = i\n",
    "    if i.name == \"start\":\n",
    "        start = i\n"
   ]
  },
  {
   "cell_type": "code",
   "execution_count": 59,
   "metadata": {},
   "outputs": [
    {
     "data": {
      "text/plain": [
       "36"
      ]
     },
     "execution_count": 59,
     "metadata": {},
     "output_type": "execute_result"
    }
   ],
   "source": [
    "def findPath(a: Cave,b,path,part):\n",
    "    if a.small and (a.name in path):\n",
    "        part = 1\n",
    "    path.append(a.name)\n",
    "    if a == b:\n",
    "        return 1\n",
    "    return sum([findPath(c,b,copy.copy(path), part) for c in a.connections if \n",
    "    ((c.small and not(c.name in path)) or (c.small and part == 2 and Counter(path)[c.name] == 1 and c.name != 'start') or (not c.small))])\n",
    "\n",
    "findPath(start,end,[], 2)"
   ]
  },
  {
   "cell_type": "code",
   "execution_count": 60,
   "metadata": {},
   "outputs": [
    {
     "data": {
      "text/plain": [
       "54"
      ]
     },
     "execution_count": 60,
     "metadata": {},
     "output_type": "execute_result"
    }
   ],
   "source": [
    "def findPath(a: Cave,b,path,part):\n",
    "    #if a.small and (a.name in path):\n",
    "    #    part = 1\n",
    "    path.append(a.name)\n",
    "    if a == b:\n",
    "        return 1\n",
    "    return sum([findPath(c,b,copy.copy(path), part) for c in a.connections if \n",
    "    ((c.small and not(c.name in path)) or (c.small and part == 2 and Counter(path)[c.name] == 1 and c.name != 'start') or (not c.small))])\n",
    "\n",
    "findPath(start,end,[], 2)"
   ]
  },
  {
   "cell_type": "markdown",
   "metadata": {},
   "source": [
    "part1:"
   ]
  },
  {
   "cell_type": "code",
   "execution_count": 61,
   "metadata": {},
   "outputs": [
    {
     "data": {
      "text/plain": [
       "2"
      ]
     },
     "execution_count": 61,
     "metadata": {},
     "output_type": "execute_result"
    }
   ],
   "source": [
    "max(Counter([start,end,end]).values())"
   ]
  },
  {
   "cell_type": "code",
   "execution_count": null,
   "metadata": {},
   "outputs": [],
   "source": []
  }
 ],
 "metadata": {
  "interpreter": {
   "hash": "9bf743333e41296147f6a175b2ffd0bcec11fd937fe5651b295727fd77246a74"
  },
  "kernelspec": {
   "display_name": "Python 3.9.2 64-bit",
   "language": "python",
   "name": "python3"
  },
  "language_info": {
   "codemirror_mode": {
    "name": "ipython",
    "version": 3
   },
   "file_extension": ".py",
   "mimetype": "text/x-python",
   "name": "python",
   "nbconvert_exporter": "python",
   "pygments_lexer": "ipython3",
   "version": "3.9.7"
  },
  "orig_nbformat": 4
 },
 "nbformat": 4,
 "nbformat_minor": 2
}
