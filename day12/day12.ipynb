{
 "cells": [
  {
   "cell_type": "code",
   "execution_count": 1,
   "metadata": {},
   "outputs": [],
   "source": [
    "import numpy as np\n",
    "import copy\n",
    "from time import perf_counter\n",
    "from collections import Counter"
   ]
  },
  {
   "cell_type": "code",
   "execution_count": 2,
   "metadata": {},
   "outputs": [],
   "source": [
    "f = open(\"input.txt\", \"r\")\n",
    "rawstring = f.read()\n",
    "f.close()"
   ]
  },
  {
   "cell_type": "code",
   "execution_count": 3,
   "metadata": {},
   "outputs": [],
   "source": [
    "class Cave():\n",
    "    def __init__(self,name):\n",
    "        self.name = name\n",
    "        self.connections = set()\n",
    "        self.small = False if name.upper() == name else True\n",
    "    \n",
    "    def addConnection(self, otherName):\n",
    "        for j in caves:\n",
    "            if otherName == j.name:\n",
    "                self.connections.add(j)"
   ]
  },
  {
   "cell_type": "code",
   "execution_count": 4,
   "metadata": {},
   "outputs": [],
   "source": [
    "\n",
    "def parseConnection(a,b):\n",
    "    for i in [a,b]:\n",
    "        if i not in [cave.name for cave in caves]:\n",
    "            caves.add(Cave(i))\n",
    "    for i in [a,b]:\n",
    "        for j in caves:\n",
    "            if j.name == i:\n",
    "                j.addConnection(b if i == a else a)\n"
   ]
  },
  {
   "cell_type": "code",
   "execution_count": 5,
   "metadata": {},
   "outputs": [
    {
     "data": {
      "text/plain": [
       "{<__main__.Cave at 0x222f1fca5b0>,\n",
       " <__main__.Cave at 0x222f1fca760>,\n",
       " <__main__.Cave at 0x222f1fcaa00>,\n",
       " <__main__.Cave at 0x222f1fcaa90>,\n",
       " <__main__.Cave at 0x222f1fcab80>,\n",
       " <__main__.Cave at 0x222f3023ee0>,\n",
       " <__main__.Cave at 0x222f3023f10>,\n",
       " <__main__.Cave at 0x222f3023fa0>,\n",
       " <__main__.Cave at 0x222f302e070>,\n",
       " <__main__.Cave at 0x222f302e730>,\n",
       " <__main__.Cave at 0x222f302e7f0>,\n",
       " <__main__.Cave at 0x222f302eee0>}"
      ]
     },
     "execution_count": 5,
     "metadata": {},
     "output_type": "execute_result"
    }
   ],
   "source": [
    "caves = set()\n",
    "input = [line.split(\"-\") for line in [line for  line in rawstring.splitlines()]]\n",
    "for line in input:\n",
    "    parseConnection(*line)\n",
    "\n",
    "caves"
   ]
  },
  {
   "cell_type": "code",
   "execution_count": 6,
   "metadata": {},
   "outputs": [],
   "source": [
    "end = -1\n",
    "start = -1\n",
    "for i in list(caves):\n",
    "    if i.name == \"end\":\n",
    "        end = i\n",
    "    if i.name == \"start\":\n",
    "        start = i\n"
   ]
  },
  {
   "cell_type": "code",
   "execution_count": 17,
   "metadata": {},
   "outputs": [
    {
     "data": {
      "text/plain": [
       "148962"
      ]
     },
     "execution_count": 17,
     "metadata": {},
     "output_type": "execute_result"
    }
   ],
   "source": [
    "def findPath(a: Cave,b,path,part):\n",
    "    if a.small and (a.name in path):\n",
    "        part = 1\n",
    "    path.append(a.name)\n",
    "    if a == b:\n",
    "        return 1\n",
    "    return sum([findPath(c,b,copy.copy(path), part) for c in a.connections if \n",
    "    ((c.small and not(c.name in path)) or (c.small and part == 2 and Counter(path)[c.name] == 1 and c.name != 'start') or (not c.small))])\n",
    "\n",
    "findPath(start,end,[], 2)"
   ]
  },
  {
   "cell_type": "markdown",
   "metadata": {},
   "source": [
    "part1:"
   ]
  },
  {
   "cell_type": "code",
   "execution_count": 11,
   "metadata": {},
   "outputs": [
    {
     "data": {
      "text/plain": [
       "2"
      ]
     },
     "execution_count": 11,
     "metadata": {},
     "output_type": "execute_result"
    }
   ],
   "source": [
    "max(Counter([start,end,end]).values())"
   ]
  },
  {
   "cell_type": "code",
   "execution_count": null,
   "metadata": {},
   "outputs": [],
   "source": []
  }
 ],
 "metadata": {
  "interpreter": {
   "hash": "9bf743333e41296147f6a175b2ffd0bcec11fd937fe5651b295727fd77246a74"
  },
  "kernelspec": {
   "display_name": "Python 3.9.2 64-bit",
   "language": "python",
   "name": "python3"
  },
  "language_info": {
   "codemirror_mode": {
    "name": "ipython",
    "version": 3
   },
   "file_extension": ".py",
   "mimetype": "text/x-python",
   "name": "python",
   "nbconvert_exporter": "python",
   "pygments_lexer": "ipython3",
   "version": "3.9.7"
  },
  "orig_nbformat": 4
 },
 "nbformat": 4,
 "nbformat_minor": 2
}
