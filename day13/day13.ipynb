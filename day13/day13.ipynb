{
 "cells": [
  {
   "cell_type": "markdown",
   "metadata": {},
   "source": [
    "# Day 13: Transparent Origami\n",
    "\n",
    "[https://adventofcode.com/2021/day/13](https://adventofcode.com/2021/day/13)\n",
    "\n",
    "## Description\n",
    "\n",
    "### Part One\n",
    "\n",
    "You reach another volcanically active part of the cave. It would be nice if you could do some kind of thermal imaging so you could tell ahead of time which caves are too hot to safely enter.\n",
    "\n",
    "Fortunately, the submarine seems to be equipped with a thermal camera! When you activate it, you are greeted with:\n",
    "\n",
    "    Congratulations on your purchase! To activate this infrared thermal imaging\n",
    "    camera system, please enter the code found on page 1 of the manual.\n",
    "    \n",
    "\n",
    "Apparently, the Elves have never used this feature. To your surprise, you manage to find the manual; as you go to open it, page 1 falls out. It's a large sheet of [transparent paper](https://en.wikipedia.org/wiki/Transparency_(projection))! The transparent paper is marked with random dots and includes instructions on how to fold it up (your puzzle input). For example:\n",
    "\n",
    "    6,10\n",
    "    0,14\n",
    "    9,10\n",
    "    0,3\n",
    "    10,4\n",
    "    4,11\n",
    "    6,0\n",
    "    6,12\n",
    "    4,1\n",
    "    0,13\n",
    "    10,12\n",
    "    3,4\n",
    "    3,0\n",
    "    8,4\n",
    "    1,10\n",
    "    2,14\n",
    "    8,10\n",
    "    9,0\n",
    "    \n",
    "    fold along y=7\n",
    "    fold along x=5\n",
    "    \n",
    "\n",
    "The first section is a list of dots on the transparent paper. `0,0` represents the top-left coordinate. The first value, `x`, increases to the right. The second value, `y`, increases downward. So, the coordinate `3,0` is to the right of `0,0`, and the coordinate `0,7` is below `0,0`. The coordinates in this example form the following pattern, where `#` is a dot on the paper and `.` is an empty, unmarked position:\n",
    "\n",
    "    ...#..#..#.\n",
    "    ....#......\n",
    "    ...........\n",
    "    #..........\n",
    "    ...#....#.#\n",
    "    ...........\n",
    "    ...........\n",
    "    ...........\n",
    "    ...........\n",
    "    ...........\n",
    "    .#....#.##.\n",
    "    ....#......\n",
    "    ......#...#\n",
    "    #..........\n",
    "    #.#........\n",
    "    \n",
    "\n",
    "Then, there is a list of _fold instructions_. Each instruction indicates a line on the transparent paper and wants you to fold the paper _up_ (for horizontal `y=...` lines) or _left_ (for vertical `x=...` lines). In this example, the first fold instruction is `fold along y=7`, which designates the line formed by all of the positions where `y` is `7` (marked here with `-`):\n",
    "\n",
    "    ...#..#..#.\n",
    "    ....#......\n",
    "    ...........\n",
    "    #..........\n",
    "    ...#....#.#\n",
    "    ...........\n",
    "    ...........\n",
    "    -----------\n",
    "    ...........\n",
    "    ...........\n",
    "    .#....#.##.\n",
    "    ....#......\n",
    "    ......#...#\n",
    "    #..........\n",
    "    #.#........\n",
    "    \n",
    "\n",
    "Because this is a horizontal line, fold the bottom half _up_. Some of the dots might end up overlapping after the fold is complete, but dots will never appear exactly on a fold line. The result of doing this fold looks like this:\n",
    "\n",
    "    #.##..#..#.\n",
    "    #...#......\n",
    "    ......#...#\n",
    "    #...#......\n",
    "    .#.#..#.###\n",
    "    ...........\n",
    "    ...........\n",
    "    \n",
    "\n",
    "Now, only `17` dots are visible.\n",
    "\n",
    "Notice, for example, the two dots in the bottom left corner before the transparent paper is folded; after the fold is complete, those dots appear in the top left corner (at `0,0` and `0,1`). Because the paper is transparent, the dot just below them in the result (at `0,3`) remains visible, as it can be seen through the transparent paper.\n",
    "\n",
    "Also notice that some dots can end up _overlapping_; in this case, the dots merge together and become a single dot.\n",
    "\n",
    "The second fold instruction is `fold along x=5`, which indicates this line:\n",
    "\n",
    "    #.##.|#..#.\n",
    "    #...#|.....\n",
    "    .....|#...#\n",
    "    #...#|.....\n",
    "    .#.#.|#.###\n",
    "    .....|.....\n",
    "    .....|.....\n",
    "    \n",
    "\n",
    "Because this is a vertical line, fold _left_:\n",
    "\n",
    "    #####\n",
    "    #...#\n",
    "    #...#\n",
    "    #...#\n",
    "    #####\n",
    "    .....\n",
    "    .....\n",
    "    \n",
    "\n",
    "The instructions made a square!\n",
    "\n",
    "The transparent paper is pretty big, so for now, focus on just completing the first fold. After the first fold in the example above, _`17`_ dots are visible - dots that end up overlapping after the fold is completed count as a single dot.\n",
    "\n",
    "_How many dots are visible after completing just the first fold instruction on your transparent paper?_\n",
    "\n",
    "### Part Two\n",
    "\n",
    "<span title=\"How can you fold it that many times? You tell me, I'm not the one folding it.\">Finish folding</span> the transparent paper according to the instructions. The manual says the code is always _eight capital letters_.\n",
    "\n",
    "_What code do you use to activate the infrared thermal imaging camera system?_\n"
   ]
  },
  {
   "cell_type": "code",
   "execution_count": 1,
   "metadata": {},
   "outputs": [],
   "source": [
    "import numpy as np\n",
    "import copy\n",
    "from time import perf_counter\n",
    "from collections import Counter"
   ]
  },
  {
   "cell_type": "code",
   "execution_count": 2,
   "metadata": {},
   "outputs": [],
   "source": [
    "f = open(\"input.txt\", \"r\")\n",
    "rawstring = f.read()\n",
    "f.close()"
   ]
  },
  {
   "cell_type": "code",
   "execution_count": 3,
   "metadata": {},
   "outputs": [],
   "source": [
    "x = np.array([np.array([int(line.split(\",\")[0]),int(line.split(\",\")[1])],dtype=np.int64) for line in rawstring.splitlines() if len(line) != 0 and not (\"fold\" in line)],dtype=np.int64)"
   ]
  },
  {
   "cell_type": "code",
   "execution_count": 4,
   "metadata": {},
   "outputs": [
    {
     "data": {
      "text/plain": [
       "[('x', 655),\n",
       " ('y', 447),\n",
       " ('x', 327),\n",
       " ('y', 223),\n",
       " ('x', 163),\n",
       " ('y', 111),\n",
       " ('x', 81),\n",
       " ('y', 55),\n",
       " ('x', 40),\n",
       " ('y', 27),\n",
       " ('y', 13),\n",
       " ('y', 6)]"
      ]
     },
     "execution_count": 4,
     "metadata": {},
     "output_type": "execute_result"
    }
   ],
   "source": [
    "folds = [(line.split(\" \")[-1].split(\"=\")[0],int(line.split(\" \")[-1].split(\"=\")[1])) for line in rawstring.splitlines() if (\"fold\" in line)]\n",
    "folds"
   ]
  },
  {
   "cell_type": "code",
   "execution_count": 5,
   "metadata": {},
   "outputs": [],
   "source": [
    "max_x, max_y = np.max(x,axis=0)\n",
    "arr = np.zeros(shape=(max_x+1,max_y+1),dtype=bool)\n",
    "for i,j in x:\n",
    "    arr[i,j] = True"
   ]
  },
  {
   "cell_type": "markdown",
   "metadata": {},
   "source": [
    "part 1"
   ]
  },
  {
   "cell_type": "code",
   "execution_count": 6,
   "metadata": {},
   "outputs": [
    {
     "data": {
      "text/plain": [
       "631"
      ]
     },
     "execution_count": 6,
     "metadata": {},
     "output_type": "execute_result"
    }
   ],
   "source": [
    "foldpos = folds[0][1]\n",
    "left_arr = arr[0:foldpos,:]\n",
    "right_arr = np.flipud(arr[foldpos+1:,:])\n",
    "(left_arr+right_arr).sum()"
   ]
  },
  {
   "cell_type": "code",
   "execution_count": 7,
   "metadata": {},
   "outputs": [
    {
     "name": "stdout",
     "output_type": "stream",
     "text": [
      "(1311, 895)\n",
      "(1311, 895)\n",
      "(655, 895)\n",
      "(655, 447)\n",
      "(327, 447)\n",
      "(327, 223)\n",
      "(163, 223)\n",
      "(163, 111)\n",
      "(81, 111)\n",
      "(81, 55)\n",
      "(40, 55)\n",
      "(40, 27)\n",
      "(40, 13)\n"
     ]
    }
   ],
   "source": [
    "def perform_folds(arr,folds):\n",
    "    inter_arr = copy.deepcopy(arr)\n",
    "    print(inter_arr.shape)\n",
    "    for dir, pos in folds:\n",
    "        print(inter_arr.shape)\n",
    "        if dir == 'x':\n",
    "            left_arr  = inter_arr[0:pos,:]\n",
    "            right_arr = np.flipud(inter_arr[pos+1:,:])\n",
    "            inter_arr = left_arr + right_arr\n",
    "        if dir == 'y':\n",
    "            left_arr  = inter_arr[:,0:pos]\n",
    "            right_arr = np.fliplr(inter_arr[:,pos+1:])\n",
    "            inter_arr = left_arr + right_arr\n",
    "    return inter_arr\n",
    "\n",
    "res = perform_folds(arr, folds)"
   ]
  },
  {
   "cell_type": "code",
   "execution_count": 8,
   "metadata": {},
   "outputs": [
    {
     "name": "stdout",
     "output_type": "stream",
     "text": [
      "#### \n",
      "#    \n",
      "###  \n",
      "#    \n",
      "#    \n",
      "#### \n",
      "\n",
      "#### \n",
      "#    \n",
      "###  \n",
      "#    \n",
      "#    \n",
      "#    \n",
      "\n",
      "#    \n",
      "#    \n",
      "#    \n",
      "#    \n",
      "#    \n",
      "#### \n",
      "\n",
      "#### \n",
      "#    \n",
      "###  \n",
      "#    \n",
      "#    \n",
      "#    \n",
      "\n",
      "  ## \n",
      "   # \n",
      "   # \n",
      "   # \n",
      "#  # \n",
      " ##  \n",
      "\n",
      " ##  \n",
      "#  # \n",
      "#    \n",
      "# ## \n",
      "#  # \n",
      " ### \n",
      "\n",
      "###  \n",
      "#  # \n",
      "#  # \n",
      "###  \n",
      "# #  \n",
      "#  # \n",
      "\n",
      "#### \n",
      "#    \n",
      "###  \n",
      "#    \n",
      "#    \n",
      "#    \n",
      "\n"
     ]
    }
   ],
   "source": [
    "letters = np.zeros_like(res, dtype=np.character)\n",
    "letters[res == True] = '#'\n",
    "letters[res == False] = ' '\n",
    "def printL(x = letters[0:5,:].transpose()):\n",
    "    for i in range(x.shape[0]):\n",
    "        print(\"\".join([str(c)[2] for c in x[i,:]]))\n",
    "def printAll(j =letters):\n",
    "    for i in range(int(j.shape[0]/5)):\n",
    "        printL(letters[i*5:(i+1)*5,:].transpose())\n",
    "        print()\n",
    "printAll()"
   ]
  }
 ],
 "metadata": {
  "interpreter": {
   "hash": "9bf743333e41296147f6a175b2ffd0bcec11fd937fe5651b295727fd77246a74"
  },
  "kernelspec": {
   "display_name": "Python 3.9.2 64-bit",
   "language": "python",
   "name": "python3"
  },
  "language_info": {
   "codemirror_mode": {
    "name": "ipython",
    "version": 3
   },
   "file_extension": ".py",
   "mimetype": "text/x-python",
   "name": "python",
   "nbconvert_exporter": "python",
   "pygments_lexer": "ipython3",
   "version": "3.9.7"
  },
  "orig_nbformat": 4
 },
 "nbformat": 4,
 "nbformat_minor": 2
}
