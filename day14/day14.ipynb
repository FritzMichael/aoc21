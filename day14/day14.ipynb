{
 "cells": [
  {
   "cell_type": "markdown",
   "metadata": {},
   "source": [
    "# Day 14: Extended Polymerization\n",
    "\n",
    "[https://adventofcode.com/2021/day/14](https://adventofcode.com/2021/day/14)\n",
    "\n",
    "## Description\n",
    "\n",
    "### Part One\n",
    "\n",
    "The incredible pressures at this depth are starting to put a strain on your submarine. The submarine has [polymerization](https://en.wikipedia.org/wiki/Polymerization) equipment that would produce suitable materials to reinforce the submarine, and the nearby volcanically-active caves should even have the necessary input elements in sufficient quantities.\n",
    "\n",
    "The submarine manual contains <span title=\"HO\n",
    "\n",
    "HO -> OH\">instructions</span> for finding the optimal polymer formula; specifically, it offers a _polymer template_ and a list of _pair insertion_ rules (your puzzle input). You just need to work out what polymer would result after repeating the pair insertion process a few times.\n",
    "\n",
    "For example:\n",
    "\n",
    "    NNCB\n",
    "    \n",
    "    CH -> B\n",
    "    HH -> N\n",
    "    CB -> H\n",
    "    NH -> C\n",
    "    HB -> C\n",
    "    HC -> B\n",
    "    HN -> C\n",
    "    NN -> C\n",
    "    BH -> H\n",
    "    NC -> B\n",
    "    NB -> B\n",
    "    BN -> B\n",
    "    BB -> N\n",
    "    BC -> B\n",
    "    CC -> N\n",
    "    CN -> C\n",
    "    \n",
    "\n",
    "The first line is the _polymer template_ - this is the starting point of the process.\n",
    "\n",
    "The following section defines the _pair insertion_ rules. A rule like `AB -> C` means that when elements `A` and `B` are immediately adjacent, element `C` should be inserted between them. These insertions all happen simultaneously.\n",
    "\n",
    "So, starting with the polymer template `NNCB`, the first step simultaneously considers all three pairs:\n",
    "\n",
    "*   The first pair (`NN`) matches the rule `NN -> C`, so element _`C`_ is inserted between the first `N` and the second `N`.\n",
    "*   The second pair (`NC`) matches the rule `NC -> B`, so element _`B`_ is inserted between the `N` and the `C`.\n",
    "*   The third pair (`CB`) matches the rule `CB -> H`, so element _`H`_ is inserted between the `C` and the `B`.\n",
    "\n",
    "Note that these pairs overlap: the second element of one pair is the first element of the next pair. Also, because all pairs are considered simultaneously, inserted elements are not considered to be part of a pair until the next step.\n",
    "\n",
    "After the first step of this process, the polymer becomes `NCNBCHB`.\n",
    "\n",
    "Here are the results of a few steps using the above rules:\n",
    "\n",
    "    Template:     NNCB\n",
    "    After step 1: NCNBCHB\n",
    "    After step 2: NBCCNBBBCBHCB\n",
    "    After step 3: NBBBCNCCNBBNBNBBCHBHHBCHB\n",
    "    After step 4: NBBNBNBBCCNBCNCCNBBNBBNBBBNBBNBBCBHCBHHNHCBBCBHCB\n",
    "    \n",
    "\n",
    "This polymer grows quickly. After step 5, it has length 97; After step 10, it has length 3073. After step 10, `B` occurs 1749 times, `C` occurs 298 times, `H` occurs 161 times, and `N` occurs 865 times; taking the quantity of the most common element (`B`, 1749) and subtracting the quantity of the least common element (`H`, 161) produces `1749 - 161 = 1588`.\n",
    "\n",
    "Apply 10 steps of pair insertion to the polymer template and find the most and least common elements in the result. _What do you get if you take the quantity of the most common element and subtract the quantity of the least common element?_\n",
    "\n",
    "### Part Two\n",
    "\n",
    "The resulting polymer isn't nearly strong enough to reinforce the submarine. You'll need to run more steps of the pair insertion process; a total of _40 steps_ should do it.\n",
    "\n",
    "In the above example, the most common element is `B` (occurring `2192039569602` times) and the least common element is `H` (occurring `3849876073` times); subtracting these produces _`2188189693529`_.\n",
    "\n",
    "Apply _40_ steps of pair insertion to the polymer template and find the most and least common elements in the result. _What do you get if you take the quantity of the most common element and subtract the quantity of the least common element?_\n"
   ]
  },
  {
   "cell_type": "code",
   "execution_count": 1,
   "metadata": {},
   "outputs": [],
   "source": [
    "import numpy as np\n",
    "import copy\n",
    "from time import perf_counter\n",
    "from collections import Counter\n",
    "from functools import lru_cache"
   ]
  },
  {
   "cell_type": "code",
   "execution_count": 2,
   "metadata": {},
   "outputs": [],
   "source": [
    "f = open(\"input.txt\", \"r\")\n",
    "rawstring = f.read()\n",
    "f.close()"
   ]
  },
  {
   "cell_type": "code",
   "execution_count": 3,
   "metadata": {},
   "outputs": [],
   "source": [
    "start = list(rawstring.splitlines()[0])\n",
    "\n",
    "rules = [(list(line.split(\"->\")[0].strip()),line.split(\"->\")[1].strip())  for line in rawstring.splitlines()[1:] if len(line) != 0]"
   ]
  },
  {
   "cell_type": "code",
   "execution_count": 4,
   "metadata": {},
   "outputs": [
    {
     "data": {
      "text/plain": [
       "[(['K', 'S'], 'O'),\n",
       " (['S', 'P'], 'V'),\n",
       " (['O', 'H'], 'F'),\n",
       " (['V', 'C'], 'P'),\n",
       " (['B', 'O'], 'S')]"
      ]
     },
     "execution_count": 4,
     "metadata": {},
     "output_type": "execute_result"
    }
   ],
   "source": [
    "rules[0:5]"
   ]
  },
  {
   "cell_type": "code",
   "execution_count": 19,
   "metadata": {},
   "outputs": [
    {
     "name": "stdout",
     "output_type": "stream",
     "text": [
      "2509\n",
      "2827627697643\n"
     ]
    }
   ],
   "source": [
    "def getpairs(input):\n",
    "    pairs = {}\n",
    "    for i in range(len(input)-1):\n",
    "        current = input[i]\n",
    "        next = input[i+1]\n",
    "        key = (current, next)\n",
    "        if key in pairs.keys():\n",
    "            pairs[(current, next)] += 1\n",
    "        else:\n",
    "            pairs[(current, next)] = 1\n",
    "    return pairs\n",
    "\n",
    "def MapPairs(pairs):\n",
    "    newpairs = dict()\n",
    "    for key, value in pairs.items():\n",
    "        for rule in rules:\n",
    "            if rule[0][0] == key[0] and rule[0][1] == key[1]:\n",
    "                for newkey in [(key[0],rule[1]), (rule[1],key[1])]:\n",
    "                    if newkey in newpairs.keys():\n",
    "                        newpairs[newkey] += value\n",
    "                    else:\n",
    "                        newpairs[newkey] = value\n",
    "    return newpairs\n",
    "\n",
    "def getCount(pairs, initial):\n",
    "    count = dict()\n",
    "    for keys, value in pairs.items():\n",
    "        for key in keys:\n",
    "            if key in count.keys():\n",
    "                count[key] += value\n",
    "            else:\n",
    "                count[key] = value\n",
    "    for keys in count.keys():\n",
    "        count[keys] //= 2\n",
    "\n",
    "    for k in [initial[0], initial[-1]]:\n",
    "        count[k] += 1\n",
    "    return count\n",
    "\n",
    "def getMaxDiff(count, start):\n",
    "    temp = (sorted(list(getCount(count, start).values())))\n",
    "    return temp[-1]-temp[0]\n",
    "\n",
    "def solve(input, it=10):\n",
    "    p = getpairs(input)\n",
    "    for _ in range(it):\n",
    "        p = MapPairs(p)\n",
    "    return getMaxDiff(p, input)\n",
    "\n",
    "print(solve(start, 10))\n",
    "print(solve(start, 40))"
   ]
  },
  {
   "cell_type": "markdown",
   "metadata": {},
   "source": [
    "naive approach that only works until iteration 23"
   ]
  },
  {
   "cell_type": "code",
   "execution_count": 37,
   "metadata": {},
   "outputs": [
    {
     "name": "stdout",
     "output_type": "stream",
     "text": [
      "['K', 'F', 'V']\n"
     ]
    }
   ],
   "source": [
    "res = copy.deepcopy(start[0:3])\n",
    "print(res)\n",
    "\n",
    "\n",
    "@lru_cache(maxsize=None)\n",
    "def applyUpdate(input: str):\n",
    "    input = list(input)\n",
    "    if len(input) <= 1:\n",
    "        return []\n",
    "    if len(input) == 2:\n",
    "        for rule in rules:\n",
    "            if rule[0][0] == input[0] and rule[0][1] == input[1]:\n",
    "                input.insert(1, rule[1])\n",
    "                break\n",
    "        return input\n",
    "    \n",
    "    return [*applyUpdate(\"\".join(input[:len(input)//2+1]))[:-1], *applyUpdate(\"\".join(input[len(input)//2:]))]\n",
    "\n",
    "\n",
    "def step(res):\n",
    "    i = 0\n",
    "    while i < (len(res)-1):\n",
    "        current = res[i]\n",
    "        next = res[i+1]\n",
    "        for rule in rules:\n",
    "            if rule[0][0] == current and rule[0][1] == next:\n",
    "                res.insert(i+1, rule[1])\n",
    "                i += 1\n",
    "        i += 1\n",
    "    return res\n",
    "            "
   ]
  }
 ],
 "metadata": {
  "interpreter": {
   "hash": "9bf743333e41296147f6a175b2ffd0bcec11fd937fe5651b295727fd77246a74"
  },
  "kernelspec": {
   "display_name": "Python 3.9.2 64-bit",
   "language": "python",
   "name": "python3"
  },
  "language_info": {
   "codemirror_mode": {
    "name": "ipython",
    "version": 3
   },
   "file_extension": ".py",
   "mimetype": "text/x-python",
   "name": "python",
   "nbconvert_exporter": "python",
   "pygments_lexer": "ipython3",
   "version": "3.9.7"
  },
  "orig_nbformat": 4
 },
 "nbformat": 4,
 "nbformat_minor": 2
}
