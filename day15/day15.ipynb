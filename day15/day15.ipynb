{
 "cells": [
  {
   "cell_type": "code",
   "execution_count": 1,
   "metadata": {},
   "outputs": [],
   "source": [
    "import numpy as np\n",
    "import copy\n",
    "from time import perf_counter\n",
    "from collections import Counter, deque\n",
    "from functools import lru_cache\n",
    "import numba"
   ]
  },
  {
   "cell_type": "code",
   "execution_count": 2,
   "metadata": {},
   "outputs": [],
   "source": [
    "f = open(\"input.txt\", \"r\")\n",
    "rawstring = f.read()\n",
    "f.close()"
   ]
  },
  {
   "cell_type": "code",
   "execution_count": 3,
   "metadata": {},
   "outputs": [],
   "source": [
    "arr = np.array([np.array(list(line), dtype = np.int64) for line in rawstring.splitlines()],dtype=np.int64)"
   ]
  },
  {
   "cell_type": "code",
   "execution_count": 4,
   "metadata": {},
   "outputs": [
    {
     "data": {
      "text/plain": [
       "(100, 100)"
      ]
     },
     "execution_count": 4,
     "metadata": {},
     "output_type": "execute_result"
    }
   ],
   "source": [
    "arr.shape"
   ]
  },
  {
   "cell_type": "markdown",
   "metadata": {},
   "source": []
  },
  {
   "cell_type": "code",
   "execution_count": 5,
   "metadata": {},
   "outputs": [
    {
     "data": {
      "text/plain": [
       "array([[4, 3, 9, ..., 6, 6, 2],\n",
       "       [1, 7, 1, ..., 8, 3, 6],\n",
       "       [5, 6, 4, ..., 9, 6, 5],\n",
       "       ...,\n",
       "       [1, 7, 9, ..., 1, 8, 9],\n",
       "       [3, 4, 2, ..., 9, 6, 8],\n",
       "       [1, 9, 7, ..., 4, 5, 7]])"
      ]
     },
     "execution_count": 5,
     "metadata": {},
     "output_type": "execute_result"
    }
   ],
   "source": [
    "arr"
   ]
  },
  {
   "cell_type": "code",
   "execution_count": 6,
   "metadata": {},
   "outputs": [],
   "source": [
    "@numba.jit()\n",
    "def calculate_costs():\n",
    "    pos = [0,0]\n",
    "    path = []\n",
    "    min_cost = np.zeros_like(arr)\n",
    "    visited = np.zeros_like(arr,dtype=bool)\n",
    "    visited_n = np.zeros_like(arr,dtype=bool)\n",
    "\n",
    "    visited[0,0] = True\n",
    "    visited_n[0,0] = True\n",
    "\n",
    "    updated_old = np.zeros_like(visited, dtype=bool)\n",
    "    while not np.all(visited):\n",
    "        print(np.sum(visited))\n",
    "        print(np.sum(updated_old))\n",
    "        updated = np.zeros_like(visited, dtype=bool)\n",
    "        for idx in range(visited.shape[0]):\n",
    "            for idy in range(visited.shape[1]):\n",
    "                if idx == 0 and idy == 0:\n",
    "                    continue\n",
    "                elif (not np.all([visited[np.clip(x,0,arr.shape[0]-1),np.clip(y,0,arr.shape[1]-1)] for x,y in  [[idx,idy],[idx-1,idy],[idx+1,idy],[idx,idy-1],[idx,idy+1]]]) and np.any([visited[np.clip(x,0,arr.shape[0]-1),np.clip(y,0,arr.shape[1]-1)] for x,y in  [[idx-1,idy],[idx+1,idy],[idx,idy-1],[idx,idy+1]]])) or np.any([updated_old[np.clip(x,0,arr.shape[0]-1),np.clip(y,0,arr.shape[1]-1)] for x,y in  [[idx-1,idy],[idx+1,idy],[idx,idy-1],[idx,idy+1]]]):\n",
    "                    visited_n[idx, idy] = True\n",
    "                    new_cost = arr[idx, idy] + np.min([min_cost[np.clip(x,0,arr.shape[0]-1),np.clip(y,0,arr.shape[1]-1)] for x,y in  [[idx-1,idy],[idx+1,idy],[idx,idy-1],[idx,idy+1]] if visited[np.clip(x,0,arr.shape[0]-1),np.clip(y,0,arr.shape[1]-1)]])\n",
    "                    if min_cost[idx, idy] != 0:\n",
    "                        old_cost = min_cost[idx, idy]\n",
    "                        min_cost[idx, idy] = min(new_cost, min_cost[idx, idy])\n",
    "                        if new_cost < old_cost:\n",
    "                            updated[idx, idy] = True\n",
    "                    else:\n",
    "                        min_cost[idx, idy] = new_cost\n",
    "                        updated[idx, idy] = True\n",
    "        updated_old = copy.deepcopy(updated)\n",
    "        visited = copy.deepcopy(visited_n)\n",
    "\n",
    "    return min_cost\n",
    "\n",
    "#calculate_costs()"
   ]
  },
  {
   "cell_type": "code",
   "execution_count": 6,
   "metadata": {},
   "outputs": [],
   "source": [
    "arr_2 = np.hstack([arr+i for i in range(5)])\n",
    "arr_2 = np.vstack([arr_2+i for i in range(5)])\n",
    "arr_2[arr_2>9] -= 9"
   ]
  },
  {
   "cell_type": "code",
   "execution_count": 7,
   "metadata": {},
   "outputs": [
    {
     "name": "stdout",
     "output_type": "stream",
     "text": [
      "1\n",
      "0\n",
      "243061\n",
      "239616\n",
      "192637\n",
      "216265\n",
      "173032\n",
      "122264\n",
      "130500\n",
      "120524\n",
      "112135\n",
      "104482\n",
      "103963\n",
      "82129\n",
      "69311\n",
      "66154\n",
      "58315\n",
      "57438\n",
      "50136\n",
      "46895\n",
      "41779\n",
      "39213\n",
      "35193\n",
      "34549\n",
      "31535\n",
      "29668\n",
      "27561\n",
      "25672\n",
      "23982\n",
      "21073\n",
      "21036\n",
      "18410\n",
      "17975\n",
      "15889\n",
      "14802\n",
      "13731\n",
      "12722\n",
      "10915\n",
      "10005\n",
      "8917\n",
      "8197\n",
      "7020\n",
      "6328\n",
      "5806\n",
      "5216\n",
      "5006\n",
      "4529\n",
      "4090\n",
      "3576\n",
      "3189\n",
      "2773\n",
      "2438\n",
      "2056\n",
      "1688\n",
      "1450\n",
      "1304\n",
      "1161\n",
      "1043\n",
      "900\n",
      "767\n",
      "681\n",
      "591\n",
      "494\n",
      "456\n",
      "472\n",
      "425\n",
      "277\n",
      "162\n",
      "47\n",
      "30\n",
      "15\n",
      "15\n",
      "9\n"
     ]
    },
    {
     "data": {
      "text/plain": [
       "array([[   0,    3,   12, ..., 1693, 1694, 1700],\n",
       "       [   1,    8,    9, ..., 1692, 1699, 1700],\n",
       "       [   6,   12,   13, ..., 1691, 1692, 1701],\n",
       "       ...,\n",
       "       [1732, 1727, 1725, ..., 2916, 2923, 2931],\n",
       "       [1739, 1735, 1731, ..., 2920, 2921, 2928],\n",
       "       [1742, 1737, 1733, ..., 2912, 2916, 2922]])"
      ]
     },
     "execution_count": 7,
     "metadata": {},
     "output_type": "execute_result"
    }
   ],
   "source": [
    "def calculate_costs2(arr):\n",
    "    padded_x = np.pad(arr,pad_width=1, mode='constant', constant_values = 0)\n",
    "    views = np.lib.stride_tricks.sliding_window_view(\n",
    "                    padded_x, (3,3)\n",
    "                )\n",
    "                \n",
    "    min_cost = np.zeros_like(arr)\n",
    "    visited = np.zeros_like(arr,dtype=bool)\n",
    "    visited_n = np.zeros_like(arr,dtype=bool)\n",
    "\n",
    "    padded_v = np.pad(visited,pad_width=1, mode='constant', constant_values = False)\n",
    "    v_views = np.lib.stride_tricks.sliding_window_view(\n",
    "                    padded_v, (3,3)\n",
    "                )\n",
    "\n",
    "    padded_v[1,1] = True\n",
    "    visited_n[0,0] = True\n",
    "\n",
    "    while not np.all(padded_v[1:-1,1:-1]):\n",
    "        print(np.sum(padded_v))\n",
    "        #print(np.sum(updated_old))\n",
    "        #updated = np.zeros_like(visited, dtype=bool)\n",
    "        padded_mc = np.pad(min_cost,pad_width=1, mode='constant', constant_values = -10)\n",
    "        mc_views = np.lib.stride_tricks.sliding_window_view(\n",
    "                    padded_mc, (3,3)\n",
    "                )\n",
    "        for idx in range(views.shape[0]):\n",
    "            for idy in range(views.shape[1]):\n",
    "                view = views[idx,idy,:]\n",
    "                mc_view = mc_views[idx,idy]\n",
    "                v_view = v_views[idx,idy]\n",
    "                if idx == 0 and idy == 0:\n",
    "                    continue\n",
    "                if not v_view[1,1] and np.any(v_view[[1-1,1+1,1,1],[1,1,1+1,1-1]]):\n",
    "                    padded_mc[idx+1,idy+1] = view[1,1]+np.min(mc_view[[1-1,1+1,1,1],[1,1,1+1,1-1]][v_view[[1-1,1+1,1,1],[1,1,1+1,1-1]]])\n",
    "                    padded_v[idx+1,idy+1] = True\n",
    "        \n",
    "        padded_mc_o = copy.deepcopy(padded_mc)\n",
    "        first = True\n",
    "        while not np.all(np.equal(padded_mc_o,padded_mc)) or first:\n",
    "            print(np.sum(np.not_equal(padded_mc_o,padded_mc)))\n",
    "            padded_mc_o = copy.deepcopy(padded_mc)\n",
    "            first = False\n",
    "            for idx in range(views.shape[0]):\n",
    "                for idy in range(views.shape[1]):\n",
    "                    view = views[idx,idy,:]\n",
    "                    mc_view = mc_views[idx,idy]\n",
    "                    v_view = v_views[idx,idy]\n",
    "                    if idx == 0 and idy == 0:\n",
    "                        continue\n",
    "                    else:\n",
    "                        padded_mc[idx+1,idy+1] = view[1,1]+np.min(mc_view[[1-1,1+1,1,1],[1,1,1+1,1-1]][v_view[[1-1,1+1,1,1],[1,1,1+1,1-1]]])\n",
    "                        padded_v[idx+1,idy+1] = True\n",
    "            \n",
    "\n",
    "    return padded_mc[1:-1,1:-1]\n",
    "\n",
    "calculate_costs2(arr_2)"
   ]
  },
  {
   "cell_type": "code",
   "execution_count": 19,
   "metadata": {},
   "outputs": [
    {
     "name": "stderr",
     "output_type": "stream",
     "text": [
      "/tmp/ipykernel_21610/3119334806.py:1: NumbaWarning: \u001b[1m\n",
      "Compilation is falling back to object mode WITH looplifting enabled because Function \"calculate_costs3\" failed type inference due to: \u001b[1m\u001b[1mUse of unsupported NumPy function 'numpy.pad' or unsupported use of the function.\n",
      "\u001b[1m\n",
      "File \"../../../tmp/ipykernel_21610/3119334806.py\", line 3:\u001b[0m\n",
      "\u001b[1m<source missing, REPL/exec in use?>\u001b[0m\n",
      "\u001b[0m\n",
      "\u001b[0m\u001b[1mDuring: typing of get attribute at /tmp/ipykernel_21610/3119334806.py (3)\u001b[0m\n",
      "\u001b[1m\n",
      "File \"../../../tmp/ipykernel_21610/3119334806.py\", line 3:\u001b[0m\n",
      "\u001b[1m<source missing, REPL/exec in use?>\u001b[0m\n",
      "\u001b[0m\n",
      "  @numba.jit(parallel=True)\n",
      "/opt/conda/lib/python3.9/site-packages/numba/core/object_mode_passes.py:151: NumbaWarning: \u001b[1mFunction \"calculate_costs3\" was compiled in object mode without forceobj=True.\n",
      "\u001b[1m\n",
      "File \"../../../tmp/ipykernel_21610/3119334806.py\", line 1:\u001b[0m\n",
      "\u001b[1m<source missing, REPL/exec in use?>\u001b[0m\n",
      "\u001b[0m\n",
      "  warnings.warn(errors.NumbaWarning(warn_msg,\n",
      "/opt/conda/lib/python3.9/site-packages/numba/core/object_mode_passes.py:161: NumbaDeprecationWarning: \u001b[1m\n",
      "Fall-back from the nopython compilation path to the object mode compilation path has been detected, this is deprecated behaviour.\n",
      "\n",
      "For more information visit https://numba.pydata.org/numba-doc/latest/reference/deprecation.html#deprecation-of-object-mode-fall-back-behaviour-when-using-jit\n",
      "\u001b[1m\n",
      "File \"../../../tmp/ipykernel_21610/3119334806.py\", line 1:\u001b[0m\n",
      "\u001b[1m<source missing, REPL/exec in use?>\u001b[0m\n",
      "\u001b[0m\n",
      "  warnings.warn(errors.NumbaDeprecationWarning(msg,\n"
     ]
    },
    {
     "name": "stdout",
     "output_type": "stream",
     "text": [
      "new iteration, all visited: False, updated elements: 0\n",
      "new iteration, all visited: True, updated elements: 249999\n",
      "new iteration, all visited: True, updated elements: 247116\n",
      "new iteration, all visited: True, updated elements: 162451\n",
      "new iteration, all visited: True, updated elements: 84714\n",
      "new iteration, all visited: True, updated elements: 73363\n",
      "new iteration, all visited: True, updated elements: 71355\n",
      "new iteration, all visited: True, updated elements: 68337\n",
      "new iteration, all visited: True, updated elements: 46828\n",
      "new iteration, all visited: True, updated elements: 39574\n",
      "new iteration, all visited: True, updated elements: 33320\n",
      "new iteration, all visited: True, updated elements: 26429\n",
      "new iteration, all visited: True, updated elements: 21982\n",
      "new iteration, all visited: True, updated elements: 19341\n",
      "new iteration, all visited: True, updated elements: 17097\n",
      "new iteration, all visited: True, updated elements: 14433\n",
      "new iteration, all visited: True, updated elements: 12828\n",
      "new iteration, all visited: True, updated elements: 11740\n",
      "new iteration, all visited: True, updated elements: 9899\n",
      "new iteration, all visited: True, updated elements: 8620\n",
      "new iteration, all visited: True, updated elements: 7549\n",
      "new iteration, all visited: True, updated elements: 6658\n",
      "new iteration, all visited: True, updated elements: 5404\n",
      "new iteration, all visited: True, updated elements: 4746\n",
      "new iteration, all visited: True, updated elements: 4334\n",
      "new iteration, all visited: True, updated elements: 3699\n",
      "new iteration, all visited: True, updated elements: 3005\n",
      "new iteration, all visited: True, updated elements: 2436\n",
      "new iteration, all visited: True, updated elements: 1861\n",
      "new iteration, all visited: True, updated elements: 1512\n",
      "new iteration, all visited: True, updated elements: 1240\n",
      "new iteration, all visited: True, updated elements: 971\n",
      "new iteration, all visited: True, updated elements: 832\n",
      "new iteration, all visited: True, updated elements: 754\n",
      "new iteration, all visited: True, updated elements: 600\n",
      "new iteration, all visited: True, updated elements: 407\n",
      "new iteration, all visited: True, updated elements: 306\n",
      "new iteration, all visited: True, updated elements: 255\n",
      "new iteration, all visited: True, updated elements: 247\n",
      "new iteration, all visited: True, updated elements: 242\n",
      "new iteration, all visited: True, updated elements: 224\n",
      "new iteration, all visited: True, updated elements: 231\n",
      "new iteration, all visited: True, updated elements: 218\n",
      "new iteration, all visited: True, updated elements: 203\n",
      "new iteration, all visited: True, updated elements: 192\n",
      "new iteration, all visited: True, updated elements: 201\n",
      "new iteration, all visited: True, updated elements: 182\n",
      "new iteration, all visited: True, updated elements: 178\n",
      "new iteration, all visited: True, updated elements: 180\n",
      "new iteration, all visited: True, updated elements: 181\n",
      "new iteration, all visited: True, updated elements: 181\n",
      "new iteration, all visited: True, updated elements: 174\n",
      "new iteration, all visited: True, updated elements: 167\n",
      "new iteration, all visited: True, updated elements: 163\n",
      "new iteration, all visited: True, updated elements: 154\n",
      "new iteration, all visited: True, updated elements: 128\n",
      "new iteration, all visited: True, updated elements: 124\n",
      "new iteration, all visited: True, updated elements: 105\n",
      "new iteration, all visited: True, updated elements: 109\n",
      "new iteration, all visited: True, updated elements: 111\n",
      "new iteration, all visited: True, updated elements: 108\n",
      "new iteration, all visited: True, updated elements: 108\n",
      "new iteration, all visited: True, updated elements: 106\n",
      "new iteration, all visited: True, updated elements: 95\n",
      "new iteration, all visited: True, updated elements: 83\n",
      "new iteration, all visited: True, updated elements: 78\n",
      "new iteration, all visited: True, updated elements: 70\n",
      "new iteration, all visited: True, updated elements: 55\n",
      "new iteration, all visited: True, updated elements: 37\n",
      "new iteration, all visited: True, updated elements: 29\n",
      "new iteration, all visited: True, updated elements: 19\n",
      "new iteration, all visited: True, updated elements: 16\n",
      "new iteration, all visited: True, updated elements: 16\n",
      "new iteration, all visited: True, updated elements: 14\n",
      "new iteration, all visited: True, updated elements: 12\n",
      "new iteration, all visited: True, updated elements: 9\n",
      "new iteration, all visited: True, updated elements: 5\n",
      "new iteration, all visited: True, updated elements: 2\n"
     ]
    },
    {
     "data": {
      "text/plain": [
       "array([[   0,    3,   12, ..., 1693, 1694, 1700],\n",
       "       [   1,    8,    9, ..., 1692, 1699, 1700],\n",
       "       [   6,   12,   13, ..., 1691, 1692, 1701],\n",
       "       ...,\n",
       "       [1733, 1728, 1726, ..., 2916, 2923, 2931],\n",
       "       [1740, 1736, 1732, ..., 2920, 2921, 2928],\n",
       "       [1743, 1738, 1734, ..., 2912, 2916, 2922]])"
      ]
     },
     "execution_count": 19,
     "metadata": {},
     "output_type": "execute_result"
    }
   ],
   "source": [
    "@numba.jit(parallel=True)\n",
    "def calculate_costs3(arr):\n",
    "    padded_x = np.pad(arr,pad_width=1, mode='constant', constant_values = 0)\n",
    "    views = np.lib.stride_tricks.sliding_window_view(\n",
    "                    padded_x, (3,3)\n",
    "                )\n",
    "                \n",
    "    min_cost = np.zeros_like(arr)\n",
    "    visited = np.zeros_like(arr,dtype=bool)\n",
    "    visited_n = np.zeros_like(arr,dtype=bool)\n",
    "\n",
    "    padded_v = np.pad(visited,pad_width=1, mode='constant', constant_values = False)\n",
    "    v_views = np.lib.stride_tricks.sliding_window_view(\n",
    "                    padded_v, (3,3)\n",
    "                )\n",
    "\n",
    "    padded_v[1,1] = True\n",
    "    visited_n[0,0] = True\n",
    "\n",
    "    updated = np.zeros_like(padded_v,dtype=bool)\n",
    "    u_views = np.lib.stride_tricks.sliding_window_view(\n",
    "                    updated, (3,3)\n",
    "                )\n",
    "    \n",
    "    update_count = 0\n",
    "\n",
    "    padded_mc = np.pad(min_cost,pad_width=1, mode='constant', constant_values = -10)\n",
    "    mc_views = np.lib.stride_tricks.sliding_window_view(\n",
    "                    padded_mc, (3,3)\n",
    "                )\n",
    "    updates = 1\n",
    "    while not np.all(padded_v[1:-1,1:-1]) or updates:\n",
    "        print(f\"new iteration, all visited: {np.all(padded_v[1:-1,1:-1])}, updated elements: {update_count}\")\n",
    "        if np.all(padded_v[1:-1,1:-1]):\n",
    "            idxs, idys = np.where(updated)\n",
    "            updated = np.zeros_like(padded_v,dtype=bool)\n",
    "            for idx_u, idy_u in zip(idxs, idys):\n",
    "                for idx in [idx_u+1,idx_u-1]:\n",
    "                    if idx < 0 or idx >= arr.shape[0]:\n",
    "                        continue\n",
    "                    for idy in [idy_u+1, idy_u-1]:\n",
    "                        if idy < 0 or idy >= arr.shape[1]:\n",
    "                            continue\n",
    "                        view = views[idx,idy,:]\n",
    "                        oldval = padded_mc[idx+1,idy+1]\n",
    "                        mc_view = mc_views[idx,idy]\n",
    "                        v_view = v_views[idx,idy]\n",
    "                        u_view = u_views[idx,idy]\n",
    "                        newval = view[1,1]+np.min(mc_view[[1-1,1+1,1,1],[1,1,1+1,1-1]][v_view[[1-1,1+1,1,1],[1,1,1+1,1-1]]])\n",
    "                        if newval < oldval:\n",
    "                            padded_mc[idx+1,idy+1] = newval\n",
    "                            updated[idx+1,idy+1] = True\n",
    "        else:\n",
    "            updated = np.zeros_like(padded_v,dtype=bool)\n",
    "            for idx in range(views.shape[0]):\n",
    "                for idy in range(views.shape[1]):\n",
    "                    view = views[idx,idy,:]\n",
    "                    mc_view = mc_views[idx,idy]\n",
    "                    v_view = v_views[idx,idy]\n",
    "                    u_view = u_views[idx,idy]\n",
    "                    if idx == 0 and idy == 0:\n",
    "                        continue\n",
    "                    if (not v_view[1,1] and np.any(v_view[[1-1,1+1,1,1],[1,1,1+1,1-1]])) or np.any(u_view[[1-1,1+1,1,1],[1,1,1+1,1-1]]):\n",
    "                        oldval = padded_mc[idx+1,idy+1]\n",
    "                        newval = view[1,1]+np.min(mc_view[[1-1,1+1,1,1],[1,1,1+1,1-1]][v_view[[1-1,1+1,1,1],[1,1,1+1,1-1]]])\n",
    "                        padded_mc[idx+1,idy+1] = newval\n",
    "                        updated[idx+1,idy+1] = True\n",
    "                        padded_v[idx+1,idy+1] = True\n",
    "        updates = np.any(updated)\n",
    "        update_count = np.sum(updated)\n",
    "        \n",
    "    \n",
    "    return padded_mc[1:-1,1:-1]\n",
    "\n",
    "calculate_costs3(arr_2)"
   ]
  },
  {
   "cell_type": "code",
   "execution_count": 7,
   "metadata": {},
   "outputs": [
    {
     "name": "stdout",
     "output_type": "stream",
     "text": [
      "1\n"
     ]
    }
   ],
   "source": [
    "n = deque()\n",
    "n.append(1)\n",
    "n.append(2)\n",
    "print(n.popleft())"
   ]
  },
  {
   "cell_type": "code",
   "execution_count": 14,
   "metadata": {},
   "outputs": [
    {
     "data": {
      "text/plain": [
       "array([[   0, 1061, 1070, ...,    0,    0,    0],\n",
       "       [   1, 1058, 1071, ...,    0,    0,    0],\n",
       "       [   6, 1051, 1075, ...,    0,    0,    0],\n",
       "       ...,\n",
       "       [ 542,  566, 1659, ...,    0,    0,    0],\n",
       "       [ 545,  559, 1661, ...,    0,    0,    0],\n",
       "       [ 546,  555, 1668, ...,    0,    0,    0]])"
      ]
     },
     "execution_count": 14,
     "metadata": {},
     "output_type": "execute_result"
    }
   ],
   "source": [
    "min_cost"
   ]
  },
  {
   "cell_type": "code",
   "execution_count": null,
   "metadata": {},
   "outputs": [
    {
     "ename": "Error",
     "evalue": "Session cannot generate requests",
     "output_type": "error",
     "traceback": [
      "Error: Session cannot generate requests",
      "at S.executeCodeCell (/home/jovyan/.vscode-server/extensions/ms-toolsai.jupyter-2021.10.1101450599/out/client/extension.js:66:301742)",
      "at S.execute (/home/jovyan/.vscode-server/extensions/ms-toolsai.jupyter-2021.10.1101450599/out/client/extension.js:66:300732)",
      "at S.start (/home/jovyan/.vscode-server/extensions/ms-toolsai.jupyter-2021.10.1101450599/out/client/extension.js:66:296408)",
      "at runMicrotasks (<anonymous>)",
      "at processTicksAndRejections (internal/process/task_queues.js:93:5)",
      "at async t.CellExecutionQueue.executeQueuedCells (/home/jovyan/.vscode-server/extensions/ms-toolsai.jupyter-2021.10.1101450599/out/client/extension.js:66:312326)",
      "at async t.CellExecutionQueue.start (/home/jovyan/.vscode-server/extensions/ms-toolsai.jupyter-2021.10.1101450599/out/client/extension.js:66:311862)"
     ]
    }
   ],
   "source": [
    "move"
   ]
  },
  {
   "cell_type": "code",
   "execution_count": 15,
   "metadata": {},
   "outputs": [],
   "source": [
    "import sys"
   ]
  },
  {
   "cell_type": "code",
   "execution_count": 12,
   "metadata": {},
   "outputs": [
    {
     "data": {
      "text/plain": [
       "3000"
      ]
     },
     "execution_count": 12,
     "metadata": {},
     "output_type": "execute_result"
    }
   ],
   "source": [
    "sys.getrecursionlimit()"
   ]
  },
  {
   "cell_type": "code",
   "execution_count": 16,
   "metadata": {},
   "outputs": [],
   "source": [
    "sys.setrecursionlimit(100_000)"
   ]
  },
  {
   "cell_type": "code",
   "execution_count": null,
   "metadata": {},
   "outputs": [],
   "source": []
  }
 ],
 "metadata": {
  "interpreter": {
   "hash": "9bf743333e41296147f6a175b2ffd0bcec11fd937fe5651b295727fd77246a74"
  },
  "kernelspec": {
   "display_name": "Python 3.9.2 64-bit",
   "language": "python",
   "name": "python3"
  },
  "language_info": {
   "codemirror_mode": {
    "name": "ipython",
    "version": 3
   },
   "file_extension": ".py",
   "mimetype": "text/x-python",
   "name": "python",
   "nbconvert_exporter": "python",
   "pygments_lexer": "ipython3",
   "version": "3.9.7"
  },
  "orig_nbformat": 4
 },
 "nbformat": 4,
 "nbformat_minor": 2
}
