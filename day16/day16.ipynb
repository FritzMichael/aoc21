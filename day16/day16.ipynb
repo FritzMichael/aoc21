{
 "cells": [
  {
   "cell_type": "markdown",
   "metadata": {},
   "source": [
    "# Day 16: Packet Decoder\n",
    "\n",
    "[https://adventofcode.com/2021/day/16](https://adventofcode.com/2021/day/16)\n",
    "\n",
    "## Description\n",
    "\n",
    "### Part One\n",
    "\n",
    "As you leave the cave and reach open waters, you receive a transmission from the Elves back on the ship.\n",
    "\n",
    "The transmission was sent using the Buoyancy Interchange Transmission System (<span title=\"Just be glad it wasn't sent using the BuoyancY Transmission Encoding System.\">BITS</span>), a method of packing numeric expressions into a binary sequence. Your submarine's computer has saved the transmission in [hexadecimal](https://en.wikipedia.org/wiki/Hexadecimal) (your puzzle input).\n",
    "\n",
    "The first step of decoding the message is to convert the hexadecimal representation into binary. Each character of hexadecimal corresponds to four bits of binary data:\n",
    "\n",
    "    0 = 0000\n",
    "    1 = 0001\n",
    "    2 = 0010\n",
    "    3 = 0011\n",
    "    4 = 0100\n",
    "    5 = 0101\n",
    "    6 = 0110\n",
    "    7 = 0111\n",
    "    8 = 1000\n",
    "    9 = 1001\n",
    "    A = 1010\n",
    "    B = 1011\n",
    "    C = 1100\n",
    "    D = 1101\n",
    "    E = 1110\n",
    "    F = 1111\n",
    "    \n",
    "\n",
    "The BITS transmission contains a single _packet_ at its outermost layer which itself contains many other packets. The hexadecimal representation of this packet might encode a few extra `0` bits at the end; these are not part of the transmission and should be ignored.\n",
    "\n",
    "Every packet begins with a standard header: the first three bits encode the packet _version_, and the next three bits encode the packet _type ID_. These two values are numbers; all numbers encoded in any packet are represented as binary with the most significant bit first. For example, a version encoded as the binary sequence `100` represents the number `4`.\n",
    "\n",
    "Packets with type ID `4` represent a _literal value_. Literal value packets encode a single binary number. To do this, the binary number is padded with leading zeroes until its length is a multiple of four bits, and then it is broken into groups of four bits. Each group is prefixed by a `1` bit except the last group, which is prefixed by a `0` bit. These groups of five bits immediately follow the packet header. For example, the hexadecimal string `D2FE28` becomes:\n",
    "\n",
    "    110100101111111000101000\n",
    "    VVVTTTAAAAABBBBBCCCCC\n",
    "    \n",
    "\n",
    "Below each bit is a label indicating its purpose:\n",
    "\n",
    "*   The three bits labeled `V` (`110`) are the packet version, `6`.\n",
    "*   The three bits labeled `T` (`100`) are the packet type ID, `4`, which means the packet is a literal value.\n",
    "*   The five bits labeled `A` (`10111`) start with a `1` (not the last group, keep reading) and contain the first four bits of the number, `0111`.\n",
    "*   The five bits labeled `B` (`11110`) start with a `1` (not the last group, keep reading) and contain four more bits of the number, `1110`.\n",
    "*   The five bits labeled `C` (`00101`) start with a `0` (last group, end of packet) and contain the last four bits of the number, `0101`.\n",
    "*   The three unlabeled `0` bits at the end are extra due to the hexadecimal representation and should be ignored.\n",
    "\n",
    "So, this packet represents a literal value with binary representation `011111100101`, which is `2021` in decimal.\n",
    "\n",
    "Every other type of packet (any packet with a type ID other than `4`) represent an _operator_ that performs some calculation on one or more sub-packets contained within. Right now, the specific operations aren't important; focus on parsing the hierarchy of sub-packets.\n",
    "\n",
    "An operator packet contains one or more packets. To indicate which subsequent binary data represents its sub-packets, an operator packet can use one of two modes indicated by the bit immediately after the packet header; this is called the _length type ID_:\n",
    "\n",
    "*   If the length type ID is `0`, then the next _15_ bits are a number that represents the _total length in bits_ of the sub-packets contained by this packet.\n",
    "*   If the length type ID is `1`, then the next _11_ bits are a number that represents the _number of sub-packets immediately contained_ by this packet.\n",
    "\n",
    "Finally, after the length type ID bit and the 15-bit or 11-bit field, the sub-packets appear.\n",
    "\n",
    "For example, here is an operator packet (hexadecimal string `38006F45291200`) with length type ID `0` that contains two sub-packets:\n",
    "\n",
    "    00111000000000000110111101000101001010010001001000000000\n",
    "    VVVTTTILLLLLLLLLLLLLLLAAAAAAAAAAABBBBBBBBBBBBBBBB\n",
    "    \n",
    "\n",
    "*   The three bits labeled `V` (`001`) are the packet version, `1`.\n",
    "*   The three bits labeled `T` (`110`) are the packet type ID, `6`, which means the packet is an operator.\n",
    "*   The bit labeled `I` (`0`) is the length type ID, which indicates that the length is a 15-bit number representing the number of bits in the sub-packets.\n",
    "*   The 15 bits labeled `L` (`000000000011011`) contain the length of the sub-packets in bits, `27`.\n",
    "*   The 11 bits labeled `A` contain the first sub-packet, a literal value representing the number `10`.\n",
    "*   The 16 bits labeled `B` contain the second sub-packet, a literal value representing the number `20`.\n",
    "\n",
    "After reading 11 and 16 bits of sub-packet data, the total length indicated in `L` (27) is reached, and so parsing of this packet stops.\n",
    "\n",
    "As another example, here is an operator packet (hexadecimal string `EE00D40C823060`) with length type ID `1` that contains three sub-packets:\n",
    "\n",
    "    11101110000000001101010000001100100000100011000001100000\n",
    "    VVVTTTILLLLLLLLLLLAAAAAAAAAAABBBBBBBBBBBCCCCCCCCCCC\n",
    "    \n",
    "\n",
    "*   The three bits labeled `V` (`111`) are the packet version, `7`.\n",
    "*   The three bits labeled `T` (`011`) are the packet type ID, `3`, which means the packet is an operator.\n",
    "*   The bit labeled `I` (`1`) is the length type ID, which indicates that the length is a 11-bit number representing the number of sub-packets.\n",
    "*   The 11 bits labeled `L` (`00000000011`) contain the number of sub-packets, `3`.\n",
    "*   The 11 bits labeled `A` contain the first sub-packet, a literal value representing the number `1`.\n",
    "*   The 11 bits labeled `B` contain the second sub-packet, a literal value representing the number `2`.\n",
    "*   The 11 bits labeled `C` contain the third sub-packet, a literal value representing the number `3`.\n",
    "\n",
    "After reading 3 complete sub-packets, the number of sub-packets indicated in `L` (3) is reached, and so parsing of this packet stops.\n",
    "\n",
    "For now, parse the hierarchy of the packets throughout the transmission and _add up all of the version numbers_.\n",
    "\n",
    "Here are a few more examples of hexadecimal-encoded transmissions:\n",
    "\n",
    "*   `8A004A801A8002F478` represents an operator packet (version 4) which contains an operator packet (version 1) which contains an operator packet (version 5) which contains a literal value (version 6); this packet has a version sum of _`16`_.\n",
    "*   `620080001611562C8802118E34` represents an operator packet (version 3) which contains two sub-packets; each sub-packet is an operator packet that contains two literal values. This packet has a version sum of _`12`_.\n",
    "*   `C0015000016115A2E0802F182340` has the same structure as the previous example, but the outermost packet uses a different length type ID. This packet has a version sum of _`23`_.\n",
    "*   `A0016C880162017C3686B18A3D4780` is an operator packet that contains an operator packet that contains an operator packet that contains five literal values; it has a version sum of _`31`_.\n",
    "\n",
    "Decode the structure of your hexadecimal-encoded BITS transmission; _what do you get if you add up the version numbers in all packets?_\n",
    "\n",
    "### Part Two\n",
    "\n",
    "Now that you have the structure of your transmission decoded, you can calculate the value of the expression it represents.\n",
    "\n",
    "Literal values (type ID `4`) represent a single number as described above. The remaining type IDs are more interesting:\n",
    "\n",
    "*   Packets with type ID `0` are _sum_ packets - their value is the sum of the values of their sub-packets. If they only have a single sub-packet, their value is the value of the sub-packet.\n",
    "*   Packets with type ID `1` are _product_ packets - their value is the result of multiplying together the values of their sub-packets. If they only have a single sub-packet, their value is the value of the sub-packet.\n",
    "*   Packets with type ID `2` are _minimum_ packets - their value is the minimum of the values of their sub-packets.\n",
    "*   Packets with type ID `3` are _maximum_ packets - their value is the maximum of the values of their sub-packets.\n",
    "*   Packets with type ID `5` are _greater than_ packets - their value is _1_ if the value of the first sub-packet is greater than the value of the second sub-packet; otherwise, their value is _0_. These packets always have exactly two sub-packets.\n",
    "*   Packets with type ID `6` are _less than_ packets - their value is _1_ if the value of the first sub-packet is less than the value of the second sub-packet; otherwise, their value is _0_. These packets always have exactly two sub-packets.\n",
    "*   Packets with type ID `7` are _equal to_ packets - their value is _1_ if the value of the first sub-packet is equal to the value of the second sub-packet; otherwise, their value is _0_. These packets always have exactly two sub-packets.\n",
    "\n",
    "Using these rules, you can now work out the value of the outermost packet in your BITS transmission.\n",
    "\n",
    "For example:\n",
    "\n",
    "*   `C200B40A82` finds the sum of `1` and `2`, resulting in the value _`3`_.\n",
    "*   `04005AC33890` finds the product of `6` and `9`, resulting in the value _`54`_.\n",
    "*   `880086C3E88112` finds the minimum of `7`, `8`, and `9`, resulting in the value _`7`_.\n",
    "*   `CE00C43D881120` finds the maximum of `7`, `8`, and `9`, resulting in the value _`9`_.\n",
    "*   `D8005AC2A8F0` produces `1`, because `5` is less than `15`.\n",
    "*   `F600BC2D8F` produces `0`, because `5` is not greater than `15`.\n",
    "*   `9C005AC2F8F0` produces `0`, because `5` is not equal to `15`.\n",
    "*   `9C0141080250320F1802104A08` produces `1`, because `1` + `3` = `2` \\* `2`.\n",
    "\n",
    "_What do you get if you evaluate the expression represented by your hexadecimal-encoded BITS transmission?_\n"
   ]
  },
  {
   "cell_type": "code",
   "execution_count": 1,
   "metadata": {},
   "outputs": [],
   "source": [
    "import numpy as np\n",
    "import copy\n",
    "from time import perf_counter\n",
    "from collections import Counter, deque\n",
    "from functools import lru_cache\n",
    "import numba"
   ]
  },
  {
   "cell_type": "code",
   "execution_count": 2,
   "metadata": {},
   "outputs": [],
   "source": [
    "f = open(\"input.txt\", \"r\")\n",
    "rawstring = f.read()\n",
    "f.close()"
   ]
  },
  {
   "cell_type": "code",
   "execution_count": 3,
   "metadata": {},
   "outputs": [
    {
     "data": {
      "text/plain": [
       "'10000010000011010100101010000000000111101110000000000111001000000001100100001100101000000000010100100000000101101000001010100000000001001001100000000001010011000000010010111011101100000001000110000110110000000100000010100010000000001110110001100110000000000110100100000000110001000100100000000010101110100010100000000001000001000000001000011011001100000000011100001010010000000001011010011000000000000100010011001000000000001011100001001011010111110001001110111111111100000000011100001000000110000000000011111110100101111111110111111000001100000100000000011011111101001010011011100010001110011010000000001001110011001110001000101110010100111101110010010100001010011100000101110000000000010011101010001100000000011110100001111101000100000010001110011001100000000011111100010001001000001011010001100011001000000000010000100110000100000100010100011000001111110011000000111110010000000001011111011110000000000010111100110010100100101100101100000100110111101000011011100110111001111110010101000001000000000011011001101010010101001001000001101001100000000010001101000000000010101011110011000101100111100010011000101100111111010011000111011101110100011110100011000000001000101000110110010011100010000111001010100100011100101110010001110001111111001000000000001000001010010101000000100010000000001001011011100101010111101111000000000001001010001000001001010010100100011000001011010001100000000010100100110001001110011110001110101100100110100000000010100000100000000011100100010101011000111011010000010010000100000000011100100010001111000100101010001011001100100111100110110010101010101000000001000101000011011110010010110111001010101001001001001000100001100100111010101011000110000000001010010100000000001001010111001101111000001111101001001101101010100101111001110110110001001110001100001110101111100001100000000010000101000000000110111000100000000000001000010111000010111010000010100100001100000000000000000100001111100010011101000110001010000010100100110001100011111000001110110000000001011001001100100010010111110001000000100110011111111010111011011101001011100101011010110000001100100011000000000101111001010101111011100110100000110000110000000001001110110000000001000110010001011001001001000101100011100101001011010001110111110011111110010111011100100000000100010000001001011000110110101100000000010110000100000000011110100000100001000010001010001011000000100000000011011100010101101000111110110001010011010100000000010010100111110011001110010110100010001001000100000000010111111011110000000000111001111100101011101101110100100101101100010010111001101001001010100111010000001001000000000011101100111001001011101010001101001001011101110001011011101101001011001111111100111001111111000100001010111000111001011001001111001100000000010101101100000000010100100101011101010100101101111101111110100110011101101001100100101001011011011101000000011000100000000010100000111001111000110101100101010110001110010111010001001001110101100110100110010111111100100000000100111100001110000000001101110110000000000000010000100110001011000100001010001000101101000000000000001000011101000111111010001110000100010100011001110010010101100100111001010000000000100010010101101111011011001100001111010111011100100110000000000110000100100101101001100101100100111010011001110001101001001000000001000011110111000000000010100100101001101010010110111001111010101100000111110011010100101101110011110101011000001010100100111000010110111110111011010010100110101000001100010001100000000010101100110111101111100110001101011111010101001111000000000100101001011100000110100101110000011100010000000010011110011111110111010111101101111011110001000001001001101110110110001010010010100011011010001001100101001011010100110000100000110011110101111010010000111001101010100001111010010000000010011101010000100000000011000100000101111000111111110000100010000000000000010000111010000100001100011111011000101100100010000000001101110000111101100011111001000100101110011101000111100010000000001010110110101100000000010000100100010000001010011111110001111100101100100110101111010010010101110001000000000101001000111000010000001001011100000000010001100111011101100111100100010101100111000000001011011001110010010100011001011100011110111001001011001111101011001101100100010010001001111111011111001101011001111000110100010010110000101010010000000010110000100100101111110011011111101001110111100001010110100011011011101000000000100110001000000000111101000110011010001010111100010111000001000000000110101000101111010000010110100010010000100000000010010110100100101011111111000111000010001010010010111101110011111100110010001010010010101100001110010011000111101010111010111011001111010011000101001100001101011001000000000100011101111010000000001001010011110011011011001111001101010100111011100000110011001100000000011011100110000101101010010011001011011001100100111101100001111110001000000001011111001110010110101011011010101000010011001001011011000010011001011111101001110101000010111010010011100110101001010010010100100001110000110000000001000110011100000011001101000000000101011001010111011000101111001100001010000001100000000010100111000000000010101010010010100100111110111110011011111000110010110011000111001010111001111101000111001101110110101110001011101001000000000110111111010110000000001010110010011110110101100110011010100110001010010011111110101111111101101001100111111100000101101000000000000001111111101001110111000101101111100011101100101010011010110011111011101101000001100000'"
      ]
     },
     "execution_count": 3,
     "metadata": {},
     "output_type": "execute_result"
    }
   ],
   "source": [
    "bytes = bytearray.fromhex(rawstring)\n",
    "bytes_as_bits = ''.join(format(byte, '08b') for byte in bytes)\n",
    "bytes_as_bits\n"
   ]
  },
  {
   "cell_type": "code",
   "execution_count": 4,
   "metadata": {},
   "outputs": [],
   "source": [
    "class Packet:\n",
    "    def __init__(self, version, type_id,src_string) -> None:\n",
    "        self.version = version\n",
    "        self.type_id = type_id\n",
    "        self.operator = self.type_id != 4\n",
    "        self.src_string = src_string\n",
    "        self.startSub = []\n",
    "        self.sub = []\n",
    "\n",
    "        if self.operator:\n",
    "            self.l_type_id = int(src_string[6])\n",
    "\n",
    "            if self.l_type_id == 0:\n",
    "                self.sub_length = int(src_string[7:7+15], base=2)\n",
    "                self.startSub.append(7+15)\n",
    "                self.end = 7+15+self.sub_length\n",
    "                while self.startSub[-1] != self.end:\n",
    "                    self.parseSub(self.src_string[self.startSub[-1]:self.end])\n",
    "                    self.startSub.append(self.startSub[-1]+self.sub[-1].end)\n",
    "            else: \n",
    "                self.n_sub = int(src_string[7:7+11], base=2)\n",
    "                self.startSub.append(7+11)\n",
    "                while len(self.sub) != self.n_sub:\n",
    "                    self.parseSub(self.src_string[self.startSub[-1]:])\n",
    "                    self.startSub.append(self.startSub[-1]+self.sub[-1].end)\n",
    "                self.end = self.startSub[-1]\n",
    "            \n",
    "        else:\n",
    "            #literal\n",
    "            temp = list(self.src_string[6:])\n",
    "            self.len_lit = 5\n",
    "            i=0\n",
    "            while(temp[i] != '0'):\n",
    "                self.len_lit += 5\n",
    "                temp.pop(i)\n",
    "                i += 4\n",
    "            temp.pop(i)\n",
    "            temp = temp[:i+4]\n",
    "            self.literalVal = int(\"\".join(temp),base=2)\n",
    "            self.end = 6+self.len_lit\n",
    "            self.val = self.literalVal\n",
    "\n",
    "        if self.type_id == 0:\n",
    "            self.val = sum([x.val for x in self.sub])\n",
    "        elif self.type_id == 1:\n",
    "            self.val = np.product([x.val for x in self.sub])\n",
    "        elif self.type_id == 2:\n",
    "            self.val = min([x.val for x in self.sub])\n",
    "        elif self.type_id == 3:\n",
    "            self.val = max([x.val for x in self.sub])\n",
    "        elif self.type_id == 5:\n",
    "            self.val = 1 if self.sub[0].val > self.sub[1].val else 0\n",
    "        elif self.type_id == 6:\n",
    "            self.val = 1 if self.sub[0].val < self.sub[1].val else 0\n",
    "        elif self.type_id == 7:\n",
    "            self.val = 1 if self.sub[0].val == self.sub[1].val else 0\n",
    "\n",
    "        \n",
    "\n",
    "    def summedVersion(self):\n",
    "        return self.version + sum([x.summedVersion() for x in self.sub])\n",
    "\n",
    "    def parseSub(self, src_string):\n",
    "        self.sub.append(inter := Packet.fromString(src_string))\n",
    "        #print(f\"{inter.end=}\")\n",
    "\n",
    "    @staticmethod\n",
    "    def fromString(src_string):\n",
    "        version = int(src_string[0:3], base=2)\n",
    "        type_id = int(src_string[3:6], base=2)\n",
    "        return Packet(version, type_id, src_string)"
   ]
  },
  {
   "cell_type": "code",
   "execution_count": 5,
   "metadata": {},
   "outputs": [],
   "source": [
    "outer = Packet.fromString(bytes_as_bits)"
   ]
  },
  {
   "cell_type": "markdown",
   "metadata": {},
   "source": [
    "part 1:"
   ]
  },
  {
   "cell_type": "code",
   "execution_count": 6,
   "metadata": {},
   "outputs": [
    {
     "data": {
      "text/plain": [
       "974"
      ]
     },
     "execution_count": 6,
     "metadata": {},
     "output_type": "execute_result"
    }
   ],
   "source": [
    "outer.summedVersion()"
   ]
  },
  {
   "cell_type": "markdown",
   "metadata": {},
   "source": [
    "part 2:"
   ]
  },
  {
   "cell_type": "code",
   "execution_count": 7,
   "metadata": {},
   "outputs": [
    {
     "data": {
      "text/plain": [
       "180616437720"
      ]
     },
     "execution_count": 7,
     "metadata": {},
     "output_type": "execute_result"
    }
   ],
   "source": [
    "outer.val"
   ]
  }
 ],
 "metadata": {
  "interpreter": {
   "hash": "9bf743333e41296147f6a175b2ffd0bcec11fd937fe5651b295727fd77246a74"
  },
  "kernelspec": {
   "display_name": "Python 3.9.2 64-bit",
   "language": "python",
   "name": "python3"
  },
  "language_info": {
   "codemirror_mode": {
    "name": "ipython",
    "version": 3
   },
   "file_extension": ".py",
   "mimetype": "text/x-python",
   "name": "python",
   "nbconvert_exporter": "python",
   "pygments_lexer": "ipython3",
   "version": "3.9.7"
  },
  "orig_nbformat": 4
 },
 "nbformat": 4,
 "nbformat_minor": 2
}
