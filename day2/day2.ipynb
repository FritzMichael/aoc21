{
 "cells": [
  {
   "cell_type": "markdown",
   "metadata": {},
   "source": [
    "# Day 2: Dive!\n",
    "\n",
    "[https://adventofcode.com/2021/day/2](https://adventofcode.com/2021/day/2)\n",
    "\n",
    "## Description\n",
    "\n",
    "### Part One\n",
    "\n",
    "Now, you need to figure out how to <span title=\"Tank, I need a pilot program for a B212 helicopter.\">pilot this thing</span>.\n",
    "\n",
    "It seems like the submarine can take a series of commands like `forward 1`, `down 2`, or `up 3`:\n",
    "\n",
    "*   `forward X` increases the horizontal position by `X` units.\n",
    "*   `down X` _increases_ the depth by `X` units.\n",
    "*   `up X` _decreases_ the depth by `X` units.\n",
    "\n",
    "Note that since you're on a submarine, `down` and `up` affect your _depth_, and so they have the opposite result of what you might expect.\n",
    "\n",
    "The submarine seems to already have a planned course (your puzzle input). You should probably figure out where it's going. For example:\n",
    "\n",
    "    forward 5\n",
    "    down 5\n",
    "    forward 8\n",
    "    up 3\n",
    "    down 8\n",
    "    forward 2\n",
    "    \n",
    "\n",
    "Your horizontal position and depth both start at `0`. The steps above would then modify them as follows:\n",
    "\n",
    "*   `forward 5` adds `5` to your horizontal position, a total of `5`.\n",
    "*   `down 5` adds `5` to your depth, resulting in a value of `5`.\n",
    "*   `forward 8` adds `8` to your horizontal position, a total of `13`.\n",
    "*   `up 3` decreases your depth by `3`, resulting in a value of `2`.\n",
    "*   `down 8` adds `8` to your depth, resulting in a value of `10`.\n",
    "*   `forward 2` adds `2` to your horizontal position, a total of `15`.\n",
    "\n",
    "After following these instructions, you would have a horizontal position of `15` and a depth of `10`. (Multiplying these together produces _`150`_.)\n",
    "\n",
    "Calculate the horizontal position and depth you would have after following the planned course. _What do you get if you multiply your final horizontal position by your final depth?_\n",
    "\n",
    "### Part Two\n",
    "\n",
    "Based on your calculations, the planned course doesn't seem to make any sense. You find the submarine manual and discover that the process is actually slightly more complicated.\n",
    "\n",
    "In addition to horizontal position and depth, you'll also need to track a third value, _aim_, which also starts at `0`. The commands also mean something entirely different than you first thought:\n",
    "\n",
    "*   `down X` _increases_ your aim by `X` units.\n",
    "*   `up X` _decreases_ your aim by `X` units.\n",
    "*   `forward X` does two things:\n",
    "    *   It increases your horizontal position by `X` units.\n",
    "    *   It increases your depth by your aim _multiplied by_ `X`.\n",
    "\n",
    "Again note that since you're on a submarine, `down` and `up` do the opposite of what you might expect: \"down\" means aiming in the positive direction.\n",
    "\n",
    "Now, the above example does something different:\n",
    "\n",
    "*   `forward 5` adds `5` to your horizontal position, a total of `5`. Because your aim is `0`, your depth does not change.\n",
    "*   `down 5` adds `5` to your aim, resulting in a value of `5`.\n",
    "*   `forward 8` adds `8` to your horizontal position, a total of `13`. Because your aim is `5`, your depth increases by `8*5=40`.\n",
    "*   `up 3` decreases your aim by `3`, resulting in a value of `2`.\n",
    "*   `down 8` adds `8` to your aim, resulting in a value of `10`.\n",
    "*   `forward 2` adds `2` to your horizontal position, a total of `15`. Because your aim is `10`, your depth increases by `2*10=20` to a total of `60`.\n",
    "\n",
    "After following these new instructions, you would have a horizontal position of `15` and a depth of `60`. (Multiplying these produces _`900`_.)\n",
    "\n",
    "Using this new interpretation of the commands, calculate the horizontal position and depth you would have after following the planned course. _What do you get if you multiply your final horizontal position by your final depth?_"
   ]
  },
  {
   "cell_type": "code",
   "execution_count": 1,
   "metadata": {},
   "outputs": [],
   "source": [
    "import numpy as np"
   ]
  },
  {
   "cell_type": "code",
   "execution_count": 1,
   "metadata": {},
   "outputs": [],
   "source": [
    "f = open(\"input_2.txt\", \"r\")\n",
    "rawstring = f.read()\n",
    "f.close()"
   ]
  },
  {
   "cell_type": "code",
   "execution_count": 5,
   "metadata": {},
   "outputs": [
    {
     "data": {
      "text/plain": [
       "'h=2165,v=933'"
      ]
     },
     "metadata": {},
     "output_type": "display_data"
    }
   ],
   "source": [
    "commands = [i for i in rawstring.splitlines()]\n",
    "\n",
    "h = 0\n",
    "v = 0\n",
    "\n",
    "for i in commands:\n",
    "    dir, n = i.split(\" \")\n",
    "    n = int(n)\n",
    "    if(dir == \"forward\"):\n",
    "        h += n\n",
    "    if(dir == \"down\"):\n",
    "        v += n\n",
    "    if(dir == \"up\"):\n",
    "        v -= n\n",
    "\n",
    "display(f\"{h=},{v=}\")\n",
    "display(f\"{h*v=}\")"
   ]
  },
  {
   "cell_type": "code",
   "execution_count": 10,
   "metadata": {},
   "outputs": [
    {
     "data": {
      "text/plain": [
       "'h=2165,v=738712'"
      ]
     },
     "metadata": {},
     "output_type": "display_data"
    },
    {
     "data": {
      "text/plain": [
       "'h*v=1599311480'"
      ]
     },
     "metadata": {},
     "output_type": "display_data"
    }
   ],
   "source": [
    "commands = [i for i in rawstring.splitlines()]\n",
    "\n",
    "h = 0\n",
    "aim = 0\n",
    "v = 0\n",
    "\n",
    "for i in commands:\n",
    "    dir, n = i.split(\" \")\n",
    "    n = int(n)\n",
    "    if(dir == \"forward\"):\n",
    "        h += n\n",
    "        v += n*aim\n",
    "    if(dir == \"down\"):\n",
    "        aim += n\n",
    "    if(dir == \"up\"):\n",
    "        aim -= n\n",
    "\n",
    "display(f\"{h=},{v=}\")\n",
    "display(f\"{h*v=}\")"
   ]
  }
 ],
 "metadata": {
  "interpreter": {
   "hash": "9bf743333e41296147f6a175b2ffd0bcec11fd937fe5651b295727fd77246a74"
  },
  "kernelspec": {
   "display_name": "Python 3.9.2 64-bit",
   "language": "python",
   "name": "python3"
  },
  "language_info": {
   "codemirror_mode": {
    "name": "ipython",
    "version": 3
   },
   "file_extension": ".py",
   "mimetype": "text/x-python",
   "name": "python",
   "nbconvert_exporter": "python",
   "pygments_lexer": "ipython3",
   "version": "3.9.2"
  },
  "orig_nbformat": 4
 },
 "nbformat": 4,
 "nbformat_minor": 2
}
