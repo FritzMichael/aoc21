{
 "cells": [
  {
   "cell_type": "code",
   "execution_count": 1,
   "metadata": {},
   "outputs": [],
   "source": [
    "import numpy as np\n",
    "import copy\n",
    "from time import perf_counter\n",
    "from collections import Counter, deque\n",
    "from functools import lru_cache\n",
    "import numba\n",
    "from itertools import permutations, combinations, product"
   ]
  },
  {
   "cell_type": "code",
   "execution_count": 2,
   "metadata": {},
   "outputs": [],
   "source": [
    "f = open(\"input.txt\", \"r\")\n",
    "rawstring = f.read()\n",
    "f.close()"
   ]
  },
  {
   "cell_type": "code",
   "execution_count": 3,
   "metadata": {},
   "outputs": [
    {
     "data": {
      "text/plain": [
       "array([[256., 128.,  64.],\n",
       "       [ 32.,  16.,   8.],\n",
       "       [  4.,   2.,   1.]])"
      ]
     },
     "execution_count": 3,
     "metadata": {},
     "output_type": "execute_result"
    }
   ],
   "source": [
    "kernel = np.flip(np.power(np.ones(9)*2,np.arange(9))).reshape((3,3))\n",
    "kernel"
   ]
  },
  {
   "cell_type": "code",
   "execution_count": 4,
   "metadata": {},
   "outputs": [],
   "source": [
    "lines = rawstring.splitlines()\n",
    "lut = np.array([1 if  i == '#' else 0 for i in lines[0]])\n",
    "\n",
    "arr = np.array([list(line) for line in lines[2:]])\n",
    "arr[arr == '.'] = 0\n",
    "arr[arr == '#'] = 1\n",
    "arr = arr.astype(int)\n"
   ]
  },
  {
   "cell_type": "code",
   "execution_count": 5,
   "metadata": {},
   "outputs": [
    {
     "name": "stdout",
     "output_type": "stream",
     "text": [
      "18074\n"
     ]
    }
   ],
   "source": [
    "def applyAlgo(arr,fill=0):\n",
    "    p_arr = np.pad(arr, 2, mode='constant', constant_values=fill)\n",
    "    views = np.lib.stride_tricks.sliding_window_view(p_arr, (3,3))\n",
    "\n",
    "    idx = np.sum(views*kernel,axis=(2,3))\n",
    "    arr = lut[idx.flatten().astype(np.int64)].reshape((p_arr.shape[0]-2,p_arr.shape[1]-2))\n",
    "    return arr\n",
    "\n",
    "for i in range(25):\n",
    "    arr = applyAlgo(arr,fill=lut[-1])\n",
    "    arr = applyAlgo(arr,fill=lut[0])\n",
    "print(arr.sum())"
   ]
  },
  {
   "cell_type": "code",
   "execution_count": null,
   "metadata": {},
   "outputs": [],
   "source": []
  }
 ],
 "metadata": {
  "interpreter": {
   "hash": "9bf743333e41296147f6a175b2ffd0bcec11fd937fe5651b295727fd77246a74"
  },
  "kernelspec": {
   "display_name": "Python 3.9.2 64-bit",
   "language": "python",
   "name": "python3"
  },
  "language_info": {
   "codemirror_mode": {
    "name": "ipython",
    "version": 3
   },
   "file_extension": ".py",
   "mimetype": "text/x-python",
   "name": "python",
   "nbconvert_exporter": "python",
   "pygments_lexer": "ipython3",
   "version": "3.9.7"
  },
  "orig_nbformat": 4
 },
 "nbformat": 4,
 "nbformat_minor": 2
}
