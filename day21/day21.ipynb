{
 "cells": [
  {
   "cell_type": "code",
   "execution_count": 1,
   "metadata": {},
   "outputs": [],
   "source": [
    "import numpy as np\n",
    "import copy\n",
    "from time import perf_counter\n",
    "from collections import Counter, deque\n",
    "from functools import lru_cache\n",
    "import numba\n",
    "from itertools import permutations, combinations, product"
   ]
  },
  {
   "cell_type": "code",
   "execution_count": 2,
   "metadata": {},
   "outputs": [],
   "source": [
    "f = open(\"input.txt\", \"r\")\n",
    "rawstring = f.read()\n",
    "f.close()"
   ]
  },
  {
   "cell_type": "code",
   "execution_count": 3,
   "metadata": {},
   "outputs": [],
   "source": [
    "class Dice():\n",
    "    def __init__(self) -> None:\n",
    "        self.state = 1\n",
    "        self.count = 0\n",
    "    \n",
    "    def roll(self):\n",
    "        self.count += 1\n",
    "        retVal = self.state\n",
    "        self.incState()\n",
    "        return retVal\n",
    "\n",
    "    def incState(self, n=1):\n",
    "        self.state += n\n",
    "        self.state = self.state % 101\n",
    "        if not( 0 < self.state <= 100):\n",
    "            self.incState()"
   ]
  },
  {
   "cell_type": "code",
   "execution_count": 4,
   "metadata": {},
   "outputs": [],
   "source": [
    "class Player():\n",
    "    def __init__(self, startPos,dice=None) -> None:\n",
    "        self.Pos = startPos\n",
    "        self.score = 0\n",
    "        self.won = False\n",
    "        self.dice = dice\n",
    "    \n",
    "    def advance(self):\n",
    "        self.Pos +=  self.dice.roll() + self.dice.roll() + self.dice.roll()\n",
    "        while self.Pos > 10:\n",
    "            self.Pos -= 10\n",
    "        self.score += self.Pos"
   ]
  },
  {
   "cell_type": "code",
   "execution_count": 5,
   "metadata": {},
   "outputs": [],
   "source": [
    "dice = Dice()\n",
    "p1 = Player(10, dice)\n",
    "p2 = Player(2, dice)"
   ]
  },
  {
   "cell_type": "code",
   "execution_count": 6,
   "metadata": {},
   "outputs": [],
   "source": [
    "while(True):\n",
    "    p1.advance()\n",
    "    if p1.score >= 21:\n",
    "        break\n",
    "    p2.advance()\n",
    "    if p2.score >= 21:\n",
    "        break"
   ]
  },
  {
   "cell_type": "markdown",
   "metadata": {},
   "source": [
    "part 2:"
   ]
  },
  {
   "cell_type": "code",
   "execution_count": 9,
   "metadata": {},
   "outputs": [],
   "source": [
    "outcomes,weights = np.unique(np.array(list(\n",
    "    product([1,2,3],[1,2,3],[1,2,3])\n",
    "    )).sum(axis=1), return_counts=True)\n",
    "\n",
    "outcomes = [outcomes[i].item() for i in range(len(outcomes))]\n",
    "weights = [weights[i].item() for i in range(len(weights))]\n"
   ]
  },
  {
   "cell_type": "code",
   "execution_count": 10,
   "metadata": {},
   "outputs": [
    {
     "data": {
      "text/plain": [
       "int"
      ]
     },
     "execution_count": 10,
     "metadata": {},
     "output_type": "execute_result"
    }
   ],
   "source": [
    "type(outcomes[0])"
   ]
  },
  {
   "cell_type": "code",
   "execution_count": 11,
   "metadata": {},
   "outputs": [
    {
     "data": {
      "text/plain": [
       "int"
      ]
     },
     "execution_count": 11,
     "metadata": {},
     "output_type": "execute_result"
    }
   ],
   "source": [
    "type(outcomes[0])"
   ]
  },
  {
   "cell_type": "code",
   "execution_count": 12,
   "metadata": {},
   "outputs": [
    {
     "data": {
      "text/plain": [
       "int"
      ]
     },
     "execution_count": 12,
     "metadata": {},
     "output_type": "execute_result"
    }
   ],
   "source": [
    "type(outcomes[0])"
   ]
  },
  {
   "cell_type": "markdown",
   "metadata": {},
   "source": [
    "rolling the dice three times can increase the players position by 3-9 marks."
   ]
  },
  {
   "cell_type": "code",
   "execution_count": 19,
   "metadata": {},
   "outputs": [],
   "source": [
    "mapping = dict.fromkeys(list(product(range(11),range(1001))))\n",
    "\n",
    "for place, score in mapping.keys():\n",
    "    temp = {}\n",
    "    for outcome,i in zip(outcomes, weights):\n",
    "        newPlace = place + outcome\n",
    "        while newPlace > 10:\n",
    "            newPlace -= 10\n",
    "        newScore = score + newPlace\n",
    "        temp[(newPlace, newScore)] = i\n",
    "    mapping[(place, score)] = temp\n"
   ]
  },
  {
   "cell_type": "code",
   "execution_count": 21,
   "metadata": {},
   "outputs": [],
   "source": [
    "def filterWon(inputdict):\n",
    "    retdict = dict()\n",
    "    count = 0\n",
    "    for k,v in inputdict.items():\n",
    "        if k[1] >= 1000:\n",
    "            count += v\n",
    "        else:\n",
    "            retdict[k] = v\n",
    "    return retdict,count"
   ]
  },
  {
   "cell_type": "code",
   "execution_count": 26,
   "metadata": {},
   "outputs": [
    {
     "ename": "KeyboardInterrupt",
     "evalue": "",
     "output_type": "error",
     "traceback": [
      "\u001b[0;31m---------------------------------------------------------------------------\u001b[0m",
      "\u001b[0;31mKeyboardInterrupt\u001b[0m                         Traceback (most recent call last)",
      "\u001b[0;32m<ipython-input-26-02f543edd990>\u001b[0m in \u001b[0;36m<module>\u001b[0;34m\u001b[0m\n\u001b[1;32m     41\u001b[0m     \u001b[0;32mif\u001b[0m \u001b[0mlen\u001b[0m\u001b[0;34m(\u001b[0m\u001b[0moutput_1\u001b[0m\u001b[0;34m)\u001b[0m \u001b[0;34m==\u001b[0m \u001b[0;36m0\u001b[0m\u001b[0;34m:\u001b[0m\u001b[0;34m\u001b[0m\u001b[0;34m\u001b[0m\u001b[0m\n\u001b[1;32m     42\u001b[0m         \u001b[0;32mbreak\u001b[0m\u001b[0;34m\u001b[0m\u001b[0;34m\u001b[0m\u001b[0m\n\u001b[0;32m---> 43\u001b[0;31m     input_2 = {k:(v*\n\u001b[0m\u001b[1;32m     44\u001b[0m         \u001b[0msum\u001b[0m\u001b[0;34m(\u001b[0m\u001b[0moutput_1\u001b[0m\u001b[0;34m.\u001b[0m\u001b[0mvalues\u001b[0m\u001b[0;34m(\u001b[0m\u001b[0;34m)\u001b[0m\u001b[0;34m)\u001b[0m\u001b[0;34m//\u001b[0m\u001b[0msum\u001b[0m\u001b[0;34m(\u001b[0m\u001b[0minput_2\u001b[0m\u001b[0;34m.\u001b[0m\u001b[0mvalues\u001b[0m\u001b[0;34m(\u001b[0m\u001b[0;34m)\u001b[0m\u001b[0;34m)\u001b[0m\u001b[0;34m\u001b[0m\u001b[0;34m\u001b[0m\u001b[0m\n\u001b[1;32m     45\u001b[0m         ) for k,v in input_2.items()}\n",
      "\u001b[0;32m<ipython-input-26-02f543edd990>\u001b[0m in \u001b[0;36m<dictcomp>\u001b[0;34m(.0)\u001b[0m\n\u001b[1;32m     42\u001b[0m         \u001b[0;32mbreak\u001b[0m\u001b[0;34m\u001b[0m\u001b[0;34m\u001b[0m\u001b[0m\n\u001b[1;32m     43\u001b[0m     input_2 = {k:(v*\n\u001b[0;32m---> 44\u001b[0;31m         \u001b[0msum\u001b[0m\u001b[0;34m(\u001b[0m\u001b[0moutput_1\u001b[0m\u001b[0;34m.\u001b[0m\u001b[0mvalues\u001b[0m\u001b[0;34m(\u001b[0m\u001b[0;34m)\u001b[0m\u001b[0;34m)\u001b[0m\u001b[0;34m//\u001b[0m\u001b[0msum\u001b[0m\u001b[0;34m(\u001b[0m\u001b[0minput_2\u001b[0m\u001b[0;34m.\u001b[0m\u001b[0mvalues\u001b[0m\u001b[0;34m(\u001b[0m\u001b[0;34m)\u001b[0m\u001b[0;34m)\u001b[0m\u001b[0;34m\u001b[0m\u001b[0;34m\u001b[0m\u001b[0m\n\u001b[0m\u001b[1;32m     45\u001b[0m         ) for k,v in input_2.items()}\n\u001b[1;32m     46\u001b[0m     \u001b[0moutput_2\u001b[0m \u001b[0;34m=\u001b[0m \u001b[0mperform_step\u001b[0m\u001b[0;34m(\u001b[0m\u001b[0minput_2\u001b[0m\u001b[0;34m)\u001b[0m\u001b[0;34m\u001b[0m\u001b[0;34m\u001b[0m\u001b[0m\n",
      "\u001b[0;31mKeyboardInterrupt\u001b[0m: "
     ]
    }
   ],
   "source": [
    "\n",
    "won = []\n",
    "\n",
    "def perform_step(states,prev=None,iter=0):\n",
    "    state = [\n",
    "        {k:(v_inner*v) for k,v_inner in mapping[(k[0],k[1])].items()}\n",
    "        for k,v in states.items()]\n",
    "    new_dict = dict()\n",
    "    # consoliding the list of dicts into a dict\n",
    "    for sub_dict in state:\n",
    "        for k in sub_dict.keys():\n",
    "            if k in new_dict:\n",
    "                new_dict[k] += sub_dict[k]\n",
    "            else:\n",
    "                new_dict[k] = sub_dict[k]\n",
    "\n",
    "    # filtering out everything that has won already\n",
    "    new_dict,c = filterWon(new_dict)\n",
    "    won.append(c)\n",
    "    return new_dict\n",
    "    \n",
    "input_1 = {(4,0): 1}\n",
    "output_1 = perform_step(input_1)\n",
    "input_1 = output_1\n",
    "input_2 = {(8,0): sum(output_1.values())}\n",
    "output_2 = perform_step(input_2)\n",
    "input_2 = output_2\n",
    "\n",
    "i = 0\n",
    "while True:\n",
    "    i += 1\n",
    "\n",
    "    # normalizing the input_1 so player_1 begins his turn in as many universes\n",
    "    # as player 2 finished his last turn.\n",
    "    input_1 = {k:(v*\n",
    "    # this factor is 3**3 = 27, unless the previous player won some games\n",
    "    sum(output_2.values())//sum(input_1.values())\n",
    "    ) for k,v in input_1.items()}\n",
    "\n",
    "    output_1 = perform_step(input_1)\n",
    "    input_1 = output_1\n",
    "    if len(output_1) == 0:\n",
    "        break\n",
    "    input_2 = {k:(v*\n",
    "        sum(output_1.values())//sum(input_2.values())\n",
    "        ) for k,v in input_2.items()}\n",
    "    output_2 = perform_step(input_2)\n",
    "    input_2 = output_2\n",
    "    if len(output_2) == 0:\n",
    "        break\n"
   ]
  },
  {
   "cell_type": "code",
   "execution_count": 24,
   "metadata": {},
   "outputs": [
    {
     "data": {
      "text/plain": [
       "nan"
      ]
     },
     "execution_count": 24,
     "metadata": {},
     "output_type": "execute_result"
    }
   ],
   "source": [
    "sum(won[::2])"
   ]
  },
  {
   "cell_type": "code",
   "execution_count": 25,
   "metadata": {},
   "outputs": [
    {
     "data": {
      "text/plain": [
       "nan"
      ]
     },
     "execution_count": 25,
     "metadata": {},
     "output_type": "execute_result"
    }
   ],
   "source": [
    "sum(won[1::2])"
   ]
  },
  {
   "cell_type": "code",
   "execution_count": null,
   "metadata": {},
   "outputs": [],
   "source": []
  }
 ],
 "metadata": {
  "interpreter": {
   "hash": "9bf743333e41296147f6a175b2ffd0bcec11fd937fe5651b295727fd77246a74"
  },
  "kernelspec": {
   "display_name": "Python 3.9.2 64-bit",
   "language": "python",
   "name": "python3"
  },
  "language_info": {
   "codemirror_mode": {
    "name": "ipython",
    "version": 3
   },
   "file_extension": ".py",
   "mimetype": "text/x-python",
   "name": "python",
   "nbconvert_exporter": "python",
   "pygments_lexer": "ipython3",
   "version": "3.8.5"
  },
  "orig_nbformat": 4
 },
 "nbformat": 4,
 "nbformat_minor": 2
}
