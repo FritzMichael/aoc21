{
 "cells": [
  {
   "cell_type": "markdown",
   "metadata": {},
   "source": [
    "# Day 3: Binary Diagnostic\n",
    "\n",
    "[https://adventofcode.com/2021/day/3](https://adventofcode.com/2021/day/3)\n",
    "\n",
    "## Description\n",
    "\n",
    "### Part One\n",
    "\n",
    "The submarine has been making some <span title=\"Turns out oceans are heavy.\">odd creaking noises</span>, so you ask it to produce a diagnostic report just in case.\n",
    "\n",
    "The diagnostic report (your puzzle input) consists of a list of binary numbers which, when decoded properly, can tell you many useful things about the conditions of the submarine. The first parameter to check is the _power consumption_.\n",
    "\n",
    "You need to use the binary numbers in the diagnostic report to generate two new binary numbers (called the _gamma rate_ and the _epsilon rate_). The power consumption can then be found by multiplying the gamma rate by the epsilon rate.\n",
    "\n",
    "Each bit in the gamma rate can be determined by finding the _most common bit in the corresponding position_ of all numbers in the diagnostic report. For example, given the following diagnostic report:\n",
    "\n",
    "    00100\n",
    "    11110\n",
    "    10110\n",
    "    10111\n",
    "    10101\n",
    "    01111\n",
    "    00111\n",
    "    11100\n",
    "    10000\n",
    "    11001\n",
    "    00010\n",
    "    01010\n",
    "    \n",
    "\n",
    "Considering only the first bit of each number, there are five `0` bits and seven `1` bits. Since the most common bit is `1`, the first bit of the gamma rate is `1`.\n",
    "\n",
    "The most common second bit of the numbers in the diagnostic report is `0`, so the second bit of the gamma rate is `0`.\n",
    "\n",
    "The most common value of the third, fourth, and fifth bits are `1`, `1`, and `0`, respectively, and so the final three bits of the gamma rate are `110`.\n",
    "\n",
    "So, the gamma rate is the binary number `10110`, or _`22`_ in decimal.\n",
    "\n",
    "The epsilon rate is calculated in a similar way; rather than use the most common bit, the least common bit from each position is used. So, the epsilon rate is `01001`, or _`9`_ in decimal. Multiplying the gamma rate (`22`) by the epsilon rate (`9`) produces the power consumption, _`198`_.\n",
    "\n",
    "Use the binary numbers in your diagnostic report to calculate the gamma rate and epsilon rate, then multiply them together. _What is the power consumption of the submarine?_ (Be sure to represent your answer in decimal, not binary.)\n",
    "\n",
    "### Part Two\n",
    "\n",
    "Next, you should verify the _life support rating_, which can be determined by multiplying the _oxygen generator rating_ by the _CO2 scrubber rating_.\n",
    "\n",
    "Both the oxygen generator rating and the CO2 scrubber rating are values that can be found in your diagnostic report - finding them is the tricky part. Both values are located using a similar process that involves filtering out values until only one remains. Before searching for either rating value, start with the full list of binary numbers from your diagnostic report and _consider just the first bit_ of those numbers. Then:\n",
    "\n",
    "*   Keep only numbers selected by the _bit criteria_ for the type of rating value for which you are searching. Discard numbers which do not match the bit criteria.\n",
    "*   If you only have one number left, stop; this is the rating value for which you are searching.\n",
    "*   Otherwise, repeat the process, considering the next bit to the right.\n",
    "\n",
    "The _bit criteria_ depends on which type of rating value you want to find:\n",
    "\n",
    "*   To find _oxygen generator rating_, determine the _most common_ value (`0` or `1`) in the current bit position, and keep only numbers with that bit in that position. If `0` and `1` are equally common, keep values with a _`1`_ in the position being considered.\n",
    "*   To find _CO2 scrubber rating_, determine the _least common_ value (`0` or `1`) in the current bit position, and keep only numbers with that bit in that position. If `0` and `1` are equally common, keep values with a _`0`_ in the position being considered.\n",
    "\n",
    "For example, to determine the _oxygen generator rating_ value using the same example diagnostic report from above:\n",
    "\n",
    "*   Start with all 12 numbers and consider only the first bit of each number. There are more `1` bits (7) than `0` bits (5), so keep only the 7 numbers with a `1` in the first position: `11110`, `10110`, `10111`, `10101`, `11100`, `10000`, and `11001`.\n",
    "*   Then, consider the second bit of the 7 remaining numbers: there are more `0` bits (4) than `1` bits (3), so keep only the 4 numbers with a `0` in the second position: `10110`, `10111`, `10101`, and `10000`.\n",
    "*   In the third position, three of the four numbers have a `1`, so keep those three: `10110`, `10111`, and `10101`.\n",
    "*   In the fourth position, two of the three numbers have a `1`, so keep those two: `10110` and `10111`.\n",
    "*   In the fifth position, there are an equal number of `0` bits and `1` bits (one each). So, to find the _oxygen generator rating_, keep the number with a `1` in that position: `10111`.\n",
    "*   As there is only one number left, stop; the _oxygen generator rating_ is `10111`, or _`23`_ in decimal.\n",
    "\n",
    "Then, to determine the _CO2 scrubber rating_ value from the same example above:\n",
    "\n",
    "*   Start again with all 12 numbers and consider only the first bit of each number. There are fewer `0` bits (5) than `1` bits (7), so keep only the 5 numbers with a `0` in the first position: `00100`, `01111`, `00111`, `00010`, and `01010`.\n",
    "*   Then, consider the second bit of the 5 remaining numbers: there are fewer `1` bits (2) than `0` bits (3), so keep only the 2 numbers with a `1` in the second position: `01111` and `01010`.\n",
    "*   In the third position, there are an equal number of `0` bits and `1` bits (one each). So, to find the _CO2 scrubber rating_, keep the number with a `0` in that position: `01010`.\n",
    "*   As there is only one number left, stop; the _CO2 scrubber rating_ is `01010`, or _`10`_ in decimal.\n",
    "\n",
    "Finally, to find the life support rating, multiply the oxygen generator rating (`23`) by the CO2 scrubber rating (`10`) to get _`230`_.\n",
    "\n",
    "Use the binary numbers in your diagnostic report to calculate the oxygen generator rating and CO2 scrubber rating, then multiply them together. _What is the life support rating of the submarine?_ (Be sure to represent your answer in decimal, not binary.)\n"
   ]
  },
  {
   "cell_type": "code",
   "execution_count": 1,
   "metadata": {},
   "outputs": [],
   "source": [
    "import numpy as np\n",
    "import copy"
   ]
  },
  {
   "cell_type": "code",
   "execution_count": 2,
   "metadata": {},
   "outputs": [],
   "source": [
    "f = open(\"input.txt\", \"r\")\n",
    "rawstring = f.read()\n",
    "f.close()"
   ]
  },
  {
   "cell_type": "code",
   "execution_count": 3,
   "metadata": {},
   "outputs": [],
   "source": [
    "i = np.array([list(\"\".join(i.split())) for i in [i for i in rawstring.splitlines()]],dtype=np.int)"
   ]
  },
  {
   "cell_type": "code",
   "execution_count": 4,
   "metadata": {},
   "outputs": [
    {
     "name": "stdout",
     "output_type": "stream",
     "text": [
      "gamma=3903\n",
      "epsilon=192\n",
      "epsilon*gamma=749376\n"
     ]
    }
   ],
   "source": [
    "def part1(j):\n",
    "    res = []\n",
    "    for col in range(j.shape[1]):\n",
    "        res.append(str(int(np.round(np.sum(j[:,col])/j.shape[0]))))\n",
    "    \n",
    "    gamma = res\n",
    "    epsilon = nres = ['0' if i == '1' else '1' for i in res]\n",
    "    gamma = int(\"\".join(gamma),base=2)\n",
    "    epsilon = int(\"\".join(epsilon),base=2)\n",
    "\n",
    "    print(f\"{gamma=}\")\n",
    "    print(f\"{epsilon=}\")\n",
    "    print(f\"{epsilon*gamma=}\")\n",
    "\n",
    "part1(i)"
   ]
  },
  {
   "cell_type": "code",
   "execution_count": 5,
   "metadata": {},
   "outputs": [
    {
     "name": "stdout",
     "output_type": "stream",
     "text": [
      "oxy=3871\n",
      "scrubber=613\n",
      "oxy*scrubber=2372923\n"
     ]
    }
   ],
   "source": [
    "def part2(j):\n",
    "    def filter(inter, crit=\"mcv\"):\n",
    "        for i in range(inter.shape[1]):\n",
    "            if inter.shape[0] == 1:\n",
    "                break\n",
    "            bincount = np.bincount(inter[:,i])\n",
    "            mcv = np.argmax(bincount) if bincount[0] != bincount[1] else 1\n",
    "            if crit != \"mcv\":\n",
    "                mcv = 0 if mcv == 1 else 1\n",
    "\n",
    "            inter = inter[inter[:,i] == mcv,:]\n",
    "        return inter[0]\n",
    "    oxy = int(\"\".join(\n",
    "        np.array(filter(copy.deepcopy(j)),dtype=str\n",
    "        )),base=2)\n",
    "    scrubber = int(\"\".join(\n",
    "        np.array(filter(copy.deepcopy(j),crit=\"lcv\"),dtype=str\n",
    "        )),base=2)\n",
    "\n",
    "    print(f\"{oxy=}\")\n",
    "    print(f\"{scrubber=}\")\n",
    "    print(f\"{oxy*scrubber=}\")\n",
    "\n",
    "part2(i)"
   ]
  }
 ],
 "metadata": {
  "interpreter": {
   "hash": "9bf743333e41296147f6a175b2ffd0bcec11fd937fe5651b295727fd77246a74"
  },
  "kernelspec": {
   "display_name": "Python 3.9.2 64-bit",
   "language": "python",
   "name": "python3"
  },
  "language_info": {
   "codemirror_mode": {
    "name": "ipython",
    "version": 3
   },
   "file_extension": ".py",
   "mimetype": "text/x-python",
   "name": "python",
   "nbconvert_exporter": "python",
   "pygments_lexer": "ipython3",
   "version": "3.8.3"
  },
  "orig_nbformat": 4
 },
 "nbformat": 4,
 "nbformat_minor": 2
}
