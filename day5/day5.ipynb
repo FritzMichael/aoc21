{
 "cells": [
  {
   "cell_type": "markdown",
   "metadata": {},
   "source": [
    "# Day 5: Hydrothermal Venture\n",
    "\n",
    "[https://adventofcode.com/2021/day/5](https://adventofcode.com/2021/day/5)\n",
    "\n",
    "## Description\n",
    "\n",
    "### Part One\n",
    "\n",
    "You come across a field of [hydrothermal vents](https://en.wikipedia.org/wiki/Hydrothermal_vent) on the ocean floor! These vents constantly produce large, opaque clouds, so it would be best to avoid them if possible.\n",
    "\n",
    "They tend to form in _lines_; the submarine helpfully produces a list of nearby <span title=\"Maybe they're Bresenham vents.\">lines of vents</span> (your puzzle input) for you to review. For example:\n",
    "\n",
    "    0,9 -> 5,9\n",
    "    8,0 -> 0,8\n",
    "    9,4 -> 3,4\n",
    "    2,2 -> 2,1\n",
    "    7,0 -> 7,4\n",
    "    6,4 -> 2,0\n",
    "    0,9 -> 2,9\n",
    "    3,4 -> 1,4\n",
    "    0,0 -> 8,8\n",
    "    5,5 -> 8,2\n",
    "    \n",
    "\n",
    "Each line of vents is given as a line segment in the format `x1,y1 -> x2,y2` where `x1`,`y1` are the coordinates of one end the line segment and `x2`,`y2` are the coordinates of the other end. These line segments include the points at both ends. In other words:\n",
    "\n",
    "*   An entry like `1,1 -> 1,3` covers points `1,1`, `1,2`, and `1,3`.\n",
    "*   An entry like `9,7 -> 7,7` covers points `9,7`, `8,7`, and `7,7`.\n",
    "\n",
    "For now, _only consider horizontal and vertical lines_: lines where either `x1 = x2` or `y1 = y2`.\n",
    "\n",
    "So, the horizontal and vertical lines from the above list would produce the following diagram:\n",
    "\n",
    "    .......1..\n",
    "    ..1....1..\n",
    "    ..1....1..\n",
    "    .......1..\n",
    "    .112111211\n",
    "    ..........\n",
    "    ..........\n",
    "    ..........\n",
    "    ..........\n",
    "    222111....\n",
    "    \n",
    "\n",
    "In this diagram, the top left corner is `0,0` and the bottom right corner is `9,9`. Each position is shown as _the number of lines which cover that point_ or `.` if no line covers that point. The top-left pair of `1`s, for example, comes from `2,2 -> 2,1`; the very bottom row is formed by the overlapping lines `0,9 -> 5,9` and `0,9 -> 2,9`.\n",
    "\n",
    "To avoid the most dangerous areas, you need to determine _the number of points where at least two lines overlap_. In the above example, this is anywhere in the diagram with a `2` or larger - a total of _`5`_ points.\n",
    "\n",
    "Consider only horizontal and vertical lines. _At how many points do at least two lines overlap?_\n",
    "\n",
    "### Part Two\n",
    "\n",
    "Unfortunately, considering only horizontal and vertical lines doesn't give you the full picture; you need to also consider _diagonal lines_.\n",
    "\n",
    "Because of the limits of the hydrothermal vent mapping system, the lines in your list will only ever be horizontal, vertical, or a diagonal line at exactly 45 degrees. In other words:\n",
    "\n",
    "*   An entry like `1,1 -> 3,3` covers points `1,1`, `2,2`, and `3,3`.\n",
    "*   An entry like `9,7 -> 7,9` covers points `9,7`, `8,8`, and `7,9`.\n",
    "\n",
    "Considering all lines from the above example would now produce the following diagram:\n",
    "\n",
    "    1.1....11.\n",
    "    .111...2..\n",
    "    ..2.1.111.\n",
    "    ...1.2.2..\n",
    "    .112313211\n",
    "    ...1.2....\n",
    "    ..1...1...\n",
    "    .1.....1..\n",
    "    1.......1.\n",
    "    222111....\n",
    "    \n",
    "\n",
    "You still need to determine _the number of points where at least two lines overlap_. In the above example, this is still anywhere in the diagram with a `2` or larger - now a total of _`12`_ points.\n",
    "\n",
    "Consider all of the lines. _At how many points do at least two lines overlap?_\n"
   ]
  },
  {
   "cell_type": "code",
   "execution_count": 1,
   "metadata": {},
   "outputs": [],
   "source": [
    "import numpy as np\n",
    "import copy"
   ]
  },
  {
   "cell_type": "code",
   "execution_count": 2,
   "metadata": {},
   "outputs": [],
   "source": [
    "f = open(\"input.txt\", \"r\")\n",
    "rawstring = f.read()\n",
    "f.close()"
   ]
  },
  {
   "cell_type": "code",
   "execution_count": 3,
   "metadata": {},
   "outputs": [],
   "source": [
    "parsed = [(int(x.split(\",\")[0]),int(x.split(\",\")[1])) for x in [x for i in rawstring.splitlines() for x in i.split(\"->\")]]\n",
    "starts = np.array(parsed[::2])\n",
    "ends = np.array(parsed[1::2])"
   ]
  },
  {
   "cell_type": "code",
   "execution_count": 4,
   "metadata": {},
   "outputs": [
    {
     "name": "stdout",
     "output_type": "stream",
     "text": [
      "solution part1: 5306\n",
      "solution part2: 17787\n"
     ]
    }
   ],
   "source": [
    "def populate(starts, ends, diags=False):\n",
    "    # determining max dim\n",
    "    maxX = max(np.max(starts[:,0]),np.max(ends[:,0]))\n",
    "    maxY = max(np.max(starts[:,1]),np.max(ends[:,1]))\n",
    "\n",
    "    field = np.zeros(shape=(maxX+1,maxY+1),dtype=np.int)\n",
    "    for start, end in zip(starts,ends):\n",
    "        if ((start[0] == end[0]) or (start[1] == end[1])):\n",
    "            lowerX = min(start[0],end[0])\n",
    "            higherX = max(start[0],end[0])\n",
    "            lowerY = min(start[1],end[1])\n",
    "            higherY = max(start[1],end[1])\n",
    "            field[lowerX:higherX+1,lowerY:higherY+1] += 1\n",
    "        elif (diags):\n",
    "            #diagonal line\n",
    "            idX = list(range(start[0], end[0]-1, -1)) if len(list(range(start[0], end[0]))) == 0 else list(range(start[0], end[0]+1))\n",
    "            idY = list(range(start[1], end[1]-1, -1)) if len(list(range(start[1], end[1]))) == 0 else list(range(start[1], end[1]+1))\n",
    "            field[(idX, idY)] += 1\n",
    "\n",
    "    return np.sum(field >= 2)\n",
    "\n",
    "print(f\"solution part1: {populate(starts, ends)}\")\n",
    "print(f\"solution part2: {populate(starts, ends, diags=True)}\")"
   ]
  }
 ],
 "metadata": {
  "interpreter": {
   "hash": "9bf743333e41296147f6a175b2ffd0bcec11fd937fe5651b295727fd77246a74"
  },
  "kernelspec": {
   "display_name": "Python 3.9.2 64-bit",
   "language": "python",
   "name": "python3"
  },
  "language_info": {
   "codemirror_mode": {
    "name": "ipython",
    "version": 3
   },
   "file_extension": ".py",
   "mimetype": "text/x-python",
   "name": "python",
   "nbconvert_exporter": "python",
   "pygments_lexer": "ipython3",
   "version": "3.8.3"
  },
  "orig_nbformat": 4
 },
 "nbformat": 4,
 "nbformat_minor": 2
}
