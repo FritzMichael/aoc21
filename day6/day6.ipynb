{
 "cells": [
  {
   "cell_type": "markdown",
   "metadata": {},
   "source": [
    "# Day 6: Lanternfish\n",
    "\n",
    "[https://adventofcode.com/2021/day/6](https://adventofcode.com/2021/day/6)\n",
    "\n",
    "## Description\n",
    "\n",
    "### Part One\n",
    "\n",
    "The sea floor is getting steeper. Maybe the sleigh keys got carried this way?\n",
    "\n",
    "A massive school of glowing [lanternfish](https://en.wikipedia.org/wiki/Lanternfish) swims past. They must spawn quickly to reach such large numbers - maybe _exponentially_ quickly? You should model their growth rate to be sure.\n",
    "\n",
    "Although you know nothing about this specific species of lanternfish, you make some guesses about their attributes. Surely, <span title=\"I heard you like lanternfish.\">each lanternfish creates a new lanternfish</span> once every _7_ days.\n",
    "\n",
    "However, this process isn't necessarily synchronized between every lanternfish - one lanternfish might have 2 days left until it creates another lanternfish, while another might have 4. So, you can model each fish as a single number that represents _the number of days until it creates a new lanternfish_.\n",
    "\n",
    "Furthermore, you reason, a _new_ lanternfish would surely need slightly longer before it's capable of producing more lanternfish: two more days for its first cycle.\n",
    "\n",
    "So, suppose you have a lanternfish with an internal timer value of `3`:\n",
    "\n",
    "*   After one day, its internal timer would become `2`.\n",
    "*   After another day, its internal timer would become `1`.\n",
    "*   After another day, its internal timer would become `0`.\n",
    "*   After another day, its internal timer would reset to `6`, and it would create a _new_ lanternfish with an internal timer of `8`.\n",
    "*   After another day, the first lanternfish would have an internal timer of `5`, and the second lanternfish would have an internal timer of `7`.\n",
    "\n",
    "A lanternfish that creates a new fish resets its timer to `6`, _not `7`_ (because `0` is included as a valid timer value). The new lanternfish starts with an internal timer of `8` and does not start counting down until the next day.\n",
    "\n",
    "Realizing what you're trying to do, the submarine automatically produces a list of the ages of several hundred nearby lanternfish (your puzzle input). For example, suppose you were given the following list:\n",
    "\n",
    "    3,4,3,1,2\n",
    "\n",
    "This list means that the first fish has an internal timer of `3`, the second fish has an internal timer of `4`, and so on until the fifth fish, which has an internal timer of `2`. Simulating these fish over several days would proceed as follows:\n",
    "\n",
    "    Initial state: 3,4,3,1,2\n",
    "    After  1 day:  2,3,2,0,1\n",
    "    After  2 days: 1,2,1,6,0,8\n",
    "    After  3 days: 0,1,0,5,6,7,8\n",
    "    After  4 days: 6,0,6,4,5,6,7,8,8\n",
    "    After  5 days: 5,6,5,3,4,5,6,7,7,8\n",
    "    After  6 days: 4,5,4,2,3,4,5,6,6,7\n",
    "    After  7 days: 3,4,3,1,2,3,4,5,5,6\n",
    "    After  8 days: 2,3,2,0,1,2,3,4,4,5\n",
    "    After  9 days: 1,2,1,6,0,1,2,3,3,4,8\n",
    "    After 10 days: 0,1,0,5,6,0,1,2,2,3,7,8\n",
    "    After 11 days: 6,0,6,4,5,6,0,1,1,2,6,7,8,8,8\n",
    "    After 12 days: 5,6,5,3,4,5,6,0,0,1,5,6,7,7,7,8,8\n",
    "    After 13 days: 4,5,4,2,3,4,5,6,6,0,4,5,6,6,6,7,7,8,8\n",
    "    After 14 days: 3,4,3,1,2,3,4,5,5,6,3,4,5,5,5,6,6,7,7,8\n",
    "    After 15 days: 2,3,2,0,1,2,3,4,4,5,2,3,4,4,4,5,5,6,6,7\n",
    "    After 16 days: 1,2,1,6,0,1,2,3,3,4,1,2,3,3,3,4,4,5,5,6,8\n",
    "    After 17 days: 0,1,0,5,6,0,1,2,2,3,0,1,2,2,2,3,3,4,4,5,7,8\n",
    "    After 18 days: 6,0,6,4,5,6,0,1,1,2,6,0,1,1,1,2,2,3,3,4,6,7,8,8,8,8\n",
    "    \n",
    "\n",
    "Each day, a `0` becomes a `6` and adds a new `8` to the end of the list, while each other number decreases by 1 if it was present at the start of the day.\n",
    "\n",
    "In this example, after 18 days, there are a total of `26` fish. After 80 days, there would be a total of _`5934`_.\n",
    "\n",
    "Find a way to simulate lanternfish. _How many lanternfish would there be after 80 days?_\n",
    "\n",
    "### Part Two\n",
    "\n",
    "Suppose the lanternfish live forever and have unlimited food and space. Would they take over the entire ocean?\n",
    "\n",
    "After 256 days in the example above, there would be a total of _`26984457539`_ lanternfish!\n",
    "\n",
    "_How many lanternfish would there be after 256 days?_\n"
   ]
  },
  {
   "cell_type": "code",
   "execution_count": 1,
   "metadata": {},
   "outputs": [],
   "source": [
    "import numpy as np\n",
    "import copy"
   ]
  },
  {
   "cell_type": "code",
   "execution_count": 2,
   "metadata": {},
   "outputs": [],
   "source": [
    "f = open(\"input.txt\", \"r\")\n",
    "rawstring = f.read()\n",
    "f.close()"
   ]
  },
  {
   "cell_type": "code",
   "execution_count": 3,
   "metadata": {},
   "outputs": [],
   "source": [
    "input = [int(i) for i in rawstring.split(\",\")]"
   ]
  },
  {
   "cell_type": "code",
   "execution_count": 4,
   "metadata": {},
   "outputs": [],
   "source": [
    "counts = np.unique(input, return_counts=True)\n",
    "pop_dict = dict(zip(counts[0], counts[1]))\n"
   ]
  },
  {
   "cell_type": "code",
   "execution_count": 5,
   "metadata": {},
   "outputs": [],
   "source": [
    "def update_pop(pop_dict):\n",
    "    new_pop = dict(zip(list(range(9)),[0]*9))\n",
    "    for k in pop_dict.keys():\n",
    "        if k == 0:\n",
    "            new_pop[6] += pop_dict[k]\n",
    "            new_pop[8] += pop_dict[k]\n",
    "        else:\n",
    "            new_pop[k-1] += pop_dict[k]\n",
    "\n",
    "    return new_pop"
   ]
  },
  {
   "cell_type": "code",
   "execution_count": 6,
   "metadata": {},
   "outputs": [
    {
     "name": "stdout",
     "output_type": "stream",
     "text": [
      "solution part1: 362639\n",
      "solution part1: 1639854996917\n"
     ]
    }
   ],
   "source": [
    "for i in range(1,256+1):\n",
    "    pop_dict = update_pop(pop_dict)\n",
    "    if(i == 80):\n",
    "        print(f\"solution part1: {sum(pop_dict.values())}\")\n",
    "    if(i == 256):\n",
    "        print(f\"solution part1: {sum(pop_dict.values())}\")"
   ]
  }
 ],
 "metadata": {
  "interpreter": {
   "hash": "9bf743333e41296147f6a175b2ffd0bcec11fd937fe5651b295727fd77246a74"
  },
  "kernelspec": {
   "display_name": "Python 3.9.2 64-bit",
   "language": "python",
   "name": "python3"
  },
  "language_info": {
   "codemirror_mode": {
    "name": "ipython",
    "version": 3
   },
   "file_extension": ".py",
   "mimetype": "text/x-python",
   "name": "python",
   "nbconvert_exporter": "python",
   "pygments_lexer": "ipython3",
   "version": "3.8.3"
  },
  "orig_nbformat": 4
 },
 "nbformat": 4,
 "nbformat_minor": 2
}
