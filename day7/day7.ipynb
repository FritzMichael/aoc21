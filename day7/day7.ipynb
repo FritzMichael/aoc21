{
 "cells": [
  {
   "cell_type": "markdown",
   "metadata": {},
   "source": [
    "# Day 7: The Treachery of Whales\n",
    "\n",
    "[https://adventofcode.com/2021/day/7](https://adventofcode.com/2021/day/7)\n",
    "\n",
    "## Description\n",
    "\n",
    "### Part One\n",
    "\n",
    "A giant [whale](https://en.wikipedia.org/wiki/Sperm_whale) has decided your submarine is its next meal, and it's much faster than you are. There's nowhere to run!\n",
    "\n",
    "Suddenly, a swarm of crabs (each in its own tiny submarine - it's too deep for them otherwise) zooms in to rescue you! They seem to be preparing to blast a hole in the ocean floor; sensors indicate a _massive underground cave system_ just beyond where they're aiming!\n",
    "\n",
    "The crab submarines all need to be aligned before they'll have enough power to blast a large enough hole for your submarine to get through. However, it doesn't look like they'll be aligned before the whale catches you! Maybe you can help?\n",
    "\n",
    "There's one major catch - crab submarines can only move horizontally.\n",
    "\n",
    "You quickly make a list of _the horizontal position of each crab_ (your puzzle input). Crab submarines have limited fuel, so you need to find a way to make all of their horizontal positions match while requiring them to spend as little fuel as possible.\n",
    "\n",
    "For example, consider the following horizontal positions:\n",
    "\n",
    "    16,1,2,0,4,2,7,1,2,14\n",
    "\n",
    "This means there's a crab with horizontal position `16`, a crab with horizontal position `1`, and so on.\n",
    "\n",
    "Each change of 1 step in horizontal position of a single crab costs 1 fuel. You could choose any horizontal position to align them all on, but the one that costs the least fuel is horizontal position `2`:\n",
    "\n",
    "*   Move from `16` to `2`: `14` fuel\n",
    "*   Move from `1` to `2`: `1` fuel\n",
    "*   Move from `2` to `2`: `0` fuel\n",
    "*   Move from `0` to `2`: `2` fuel\n",
    "*   Move from `4` to `2`: `2` fuel\n",
    "*   Move from `2` to `2`: `0` fuel\n",
    "*   Move from `7` to `2`: `5` fuel\n",
    "*   Move from `1` to `2`: `1` fuel\n",
    "*   Move from `2` to `2`: `0` fuel\n",
    "*   Move from `14` to `2`: `12` fuel\n",
    "\n",
    "This costs a total of _`37`_ fuel. This is the cheapest possible outcome; more expensive outcomes include aligning at position `1` (`41` fuel), position `3` (`39` fuel), or position `10` (`71` fuel).\n",
    "\n",
    "Determine the horizontal position that the crabs can align to using the least fuel possible. _How much fuel must they spend to align to that position?_\n",
    "\n",
    "### Part Two\n",
    "\n",
    "The crabs don't seem interested in your proposed solution. Perhaps you misunderstand crab engineering?\n",
    "\n",
    "As it turns out, crab submarine engines <span title=\"This appears to be due to the modial interaction of magneto-reluctance and capacitive duractance.\">don't burn fuel at a constant rate</span>. Instead, each change of 1 step in horizontal position costs 1 more unit of fuel than the last: the first step costs `1`, the second step costs `2`, the third step costs `3`, and so on.\n",
    "\n",
    "As each crab moves, moving further becomes more expensive. This changes the best horizontal position to align them all on; in the example above, this becomes `5`:\n",
    "\n",
    "*   Move from `16` to `5`: `66` fuel\n",
    "*   Move from `1` to `5`: `10` fuel\n",
    "*   Move from `2` to `5`: `6` fuel\n",
    "*   Move from `0` to `5`: `15` fuel\n",
    "*   Move from `4` to `5`: `1` fuel\n",
    "*   Move from `2` to `5`: `6` fuel\n",
    "*   Move from `7` to `5`: `3` fuel\n",
    "*   Move from `1` to `5`: `10` fuel\n",
    "*   Move from `2` to `5`: `6` fuel\n",
    "*   Move from `14` to `5`: `45` fuel\n",
    "\n",
    "This costs a total of _`168`_ fuel. This is the new cheapest possible outcome; the old alignment position (`2`) now costs `206` fuel instead.\n",
    "\n",
    "Determine the horizontal position that the crabs can align to using the least fuel possible so they can make you an escape route! _How much fuel must they spend to align to that position?_\n"
   ]
  },
  {
   "cell_type": "code",
   "execution_count": 125,
   "metadata": {},
   "outputs": [],
   "source": [
    "import numpy as np\n",
    "import copy\n",
    "from time import perf_counter"
   ]
  },
  {
   "cell_type": "code",
   "execution_count": 45,
   "metadata": {},
   "outputs": [],
   "source": [
    "f = open(\"input.txt\", \"r\")\n",
    "rawstring = f.read()\n",
    "f.close()"
   ]
  },
  {
   "cell_type": "code",
   "execution_count": 120,
   "metadata": {},
   "outputs": [],
   "source": [
    "input = np.array([int(i) for i in rawstring.split(\",\")],dtype=np.int64)"
   ]
  },
  {
   "cell_type": "code",
   "execution_count": 134,
   "metadata": {},
   "outputs": [
    {
     "name": "stdout",
     "output_type": "stream",
     "text": [
      "t1_stop-t1_start=0.04300280000006751\n",
      "solution p.1: 352331\n",
      "solution p.2: 99266250\n"
     ]
    }
   ],
   "source": [
    "def solve(hor_pos):\n",
    "    t1_start = perf_counter()\n",
    "    minx = np.min(input)\n",
    "    maxx = np.max(input)\n",
    "    costs = np.zeros_like(list(range(minx, maxx+1)))\n",
    "    costs_2 = np.zeros_like(list(range(minx, maxx+1)))\n",
    "    for i in range(minx, maxx+1):\n",
    "        diff = np.abs([hor_pos - i])\n",
    "        costs[i] = np.sum(diff)\n",
    "        costs_2[i] = np.sum((diff*diff+diff)/2)\n",
    "    t1_stop = perf_counter()\n",
    "    p1 = np.min(costs)\n",
    "    p2 = np.min(costs_2)\n",
    "    print(f\"{t1_stop-t1_start=}\")\n",
    "    print(f\"solution p.1: {p1}\")\n",
    "    print(f\"solution p.2: {p2}\")\n",
    "\n",
    "solve(input)"
   ]
  },
  {
   "cell_type": "code",
   "execution_count": 135,
   "metadata": {},
   "outputs": [
    {
     "name": "stdout",
     "output_type": "stream",
     "text": [
      "solution p.1: 352331\n",
      "solution p.2: 99266250.0\n",
      "t1_stop-t1_start=0.046526300000095944\n"
     ]
    }
   ],
   "source": [
    "def solvewoLoops(hor_pos):\n",
    "    t1_start = perf_counter()\n",
    "    xmin = np.min(hor_pos)\n",
    "    xmax = np.max(hor_pos)\n",
    "    candidates = np.arange(xmin, xmax+1)\n",
    "    positions = np.repeat(hor_pos.reshape(1,hor_pos.shape[0]), candidates.shape[0],axis=0)\n",
    "    possible_positions = np.repeat(candidates.reshape(candidates.shape[0],1), hor_pos.shape[0],axis=1)\n",
    "\n",
    "    diff = np.abs(positions - possible_positions)\n",
    "\n",
    "    p1 = np.min(np.sum(np.abs(diff),axis=1))\n",
    "    p2 = np.min(np.sum(np.abs((diff*diff+diff)/2),axis=1))\n",
    "    t1_stop = perf_counter()\n",
    "    print(f\"solution p.1: {p1}\")\n",
    "    print(f\"solution p.2: {p2}\")\n",
    "    print(f\"{t1_stop-t1_start=}\")\n",
    "solvewoLoops(input)"
   ]
  },
  {
   "cell_type": "code",
   "execution_count": null,
   "metadata": {},
   "outputs": [],
   "source": []
  }
 ],
 "metadata": {
  "interpreter": {
   "hash": "9bf743333e41296147f6a175b2ffd0bcec11fd937fe5651b295727fd77246a74"
  },
  "kernelspec": {
   "display_name": "Python 3.9.2 64-bit",
   "language": "python",
   "name": "python3"
  },
  "language_info": {
   "codemirror_mode": {
    "name": "ipython",
    "version": 3
   },
   "file_extension": ".py",
   "mimetype": "text/x-python",
   "name": "python",
   "nbconvert_exporter": "python",
   "pygments_lexer": "ipython3",
   "version": "3.8.3"
  },
  "orig_nbformat": 4
 },
 "nbformat": 4,
 "nbformat_minor": 2
}
