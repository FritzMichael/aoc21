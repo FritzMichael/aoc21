{
 "cells": [
  {
   "cell_type": "markdown",
   "metadata": {},
   "source": [
    "# Day 9: Smoke Basin\n",
    "\n",
    "[https://adventofcode.com/2021/day/9](https://adventofcode.com/2021/day/9)\n",
    "\n",
    "## Description\n",
    "\n",
    "### Part One\n",
    "\n",
    "These caves seem to be [lava tubes](https://en.wikipedia.org/wiki/Lava_tube). Parts are even still volcanically active; small hydrothermal vents release smoke into the caves that slowly <span title=\"This was originally going to be a puzzle about watersheds, but we're already under water.\">settles like rain</span>.\n",
    "\n",
    "If you can model how the smoke flows through the caves, you might be able to avoid it and be that much safer. The submarine generates a heightmap of the floor of the nearby caves for you (your puzzle input).\n",
    "\n",
    "Smoke flows to the lowest point of the area it's in. For example, consider the following heightmap:\n",
    "\n",
    "    2199943210\n",
    "    3987894921\n",
    "    9856789892\n",
    "    8767896789\n",
    "    9899965678\n",
    "    \n",
    "\n",
    "Each number corresponds to the height of a particular location, where `9` is the highest and `0` is the lowest a location can be.\n",
    "\n",
    "Your first goal is to find the _low points_ - the locations that are lower than any of its adjacent locations. Most locations have four adjacent locations (up, down, left, and right); locations on the edge or corner of the map have three or two adjacent locations, respectively. (Diagonal locations do not count as adjacent.)\n",
    "\n",
    "In the above example, there are _four_ low points, all highlighted: two are in the first row (a `1` and a `0`), one is in the third row (a `5`), and one is in the bottom row (also a `5`). All other locations on the heightmap have some lower adjacent location, and so are not low points.\n",
    "\n",
    "The _risk level_ of a low point is _1 plus its height_. In the above example, the risk levels of the low points are `2`, `1`, `6`, and `6`. The sum of the risk levels of all low points in the heightmap is therefore _`15`_.\n",
    "\n",
    "Find all of the low points on your heightmap. _What is the sum of the risk levels of all low points on your heightmap?_\n",
    "\n",
    "### Part Two\n",
    "\n",
    "Next, you need to find the largest basins so you know what areas are most important to avoid.\n",
    "\n",
    "A _basin_ is all locations that eventually flow downward to a single low point. Therefore, every low point has a basin, although some basins are very small. Locations of height `9` do not count as being in any basin, and all other locations will always be part of exactly one basin.\n",
    "\n",
    "The _size_ of a basin is the number of locations within the basin, including the low point. The example above has four basins.\n",
    "\n",
    "The top-left basin, size `3`:\n",
    "\n",
    "    2199943210\n",
    "    3987894921\n",
    "    9856789892\n",
    "    8767896789\n",
    "    9899965678\n",
    "    \n",
    "\n",
    "The top-right basin, size `9`:\n",
    "\n",
    "    2199943210\n",
    "    3987894921\n",
    "    9856789892\n",
    "    8767896789\n",
    "    9899965678\n",
    "    \n",
    "\n",
    "The middle basin, size `14`:\n",
    "\n",
    "    2199943210\n",
    "    3987894921\n",
    "    9856789892\n",
    "    8767896789\n",
    "    9899965678\n",
    "    \n",
    "\n",
    "The bottom-right basin, size `9`:\n",
    "\n",
    "    2199943210\n",
    "    3987894921\n",
    "    9856789892\n",
    "    8767896789\n",
    "    9899965678\n",
    "    \n",
    "\n",
    "Find the three largest basins and multiply their sizes together. In the above example, this is `9 * 14 * 9 = 1134`.\n",
    "\n",
    "_What do you get if you multiply together the sizes of the three largest basins?_"
   ]
  },
  {
   "cell_type": "code",
   "execution_count": 1,
   "metadata": {},
   "outputs": [],
   "source": [
    "import numpy as np\n",
    "import copy\n",
    "from time import perf_counter"
   ]
  },
  {
   "cell_type": "code",
   "execution_count": 2,
   "metadata": {},
   "outputs": [],
   "source": [
    "f = open(\"input.txt\", \"r\")\n",
    "rawstring = f.read()\n",
    "f.close()"
   ]
  },
  {
   "cell_type": "markdown",
   "metadata": {},
   "source": [
    "part1:"
   ]
  },
  {
   "cell_type": "code",
   "execution_count": 3,
   "metadata": {},
   "outputs": [],
   "source": [
    "x = np.array([np.array(list(line),dtype=np.int8) for line in rawstring.splitlines()],dtype=np.int8)"
   ]
  },
  {
   "cell_type": "code",
   "execution_count": 4,
   "metadata": {},
   "outputs": [
    {
     "data": {
      "text/plain": [
       "539"
      ]
     },
     "execution_count": 4,
     "metadata": {},
     "output_type": "execute_result"
    }
   ],
   "source": [
    "def part1(x):\n",
    "    return sum([view[1,1]+1\n",
    "        for view in \n",
    "            np.lib.stride_tricks.sliding_window_view(\n",
    "                    np.pad(x,pad_width=1, mode='constant', constant_values = 10), (3,3)\n",
    "                ).reshape((-1,3,3))\n",
    "        if np.all(view[1,1] < view[[0,2,1,1],[1,1,0,2]])\n",
    "        ])\n",
    "part1(x)"
   ]
  },
  {
   "cell_type": "markdown",
   "metadata": {},
   "source": [
    "part2:\n",
    "locate basins"
   ]
  },
  {
   "cell_type": "code",
   "execution_count": 5,
   "metadata": {},
   "outputs": [],
   "source": [
    "def locLows(x): \n",
    "    padded_x = np.lib.stride_tricks.sliding_window_view(\n",
    "        np.pad(x,pad_width=1, mode='constant', constant_values = 10)\n",
    "        , (3,3))\n",
    "    x_dim = padded_x.shape[0]\n",
    "    y_dim = padded_x.shape[1]\n",
    "\n",
    "    lows = []\n",
    "\n",
    "    for i in range(x_dim):\n",
    "        for j in range(y_dim):\n",
    "            view = padded_x[i,j,:]\n",
    "            if np.all(view[1,1] < view[[0,2,1,1],[1,1,0,2]]):\n",
    "                lows.append((i+1,j+1))\n",
    "    return lows"
   ]
  },
  {
   "cell_type": "code",
   "execution_count": 6,
   "metadata": {},
   "outputs": [
    {
     "data": {
      "text/plain": [
       "736920"
      ]
     },
     "execution_count": 6,
     "metadata": {},
     "output_type": "execute_result"
    }
   ],
   "source": [
    "def part2(x):\n",
    "    lows = locLows(x)\n",
    "    basins = [[] for i in range(len(lows))]\n",
    "    padded_x = np.pad(x,pad_width=1, mode='constant', constant_values = 10)\n",
    "    for idx, coord in enumerate(lows):\n",
    "        basins[idx].append(coord)\n",
    "        for i,j in basins[idx]:\n",
    "            for k,l in [(i-1,j),(i+1,j),(i,j+1),(i,j-1)]:\n",
    "                if padded_x[k,l] > padded_x[i,j] and padded_x[k,l] < 9 and (not (k,l) in basins[idx]):\n",
    "                    basins[idx].append((k,l))\n",
    "        \n",
    "    return np.product(sorted([len(b) for b in basins],reverse=True)[0:3])\n",
    "\n",
    "part2(x)"
   ]
  }
 ],
 "metadata": {
  "interpreter": {
   "hash": "9bf743333e41296147f6a175b2ffd0bcec11fd937fe5651b295727fd77246a74"
  },
  "kernelspec": {
   "display_name": "Python 3.9.2 64-bit",
   "language": "python",
   "name": "python3"
  },
  "language_info": {
   "codemirror_mode": {
    "name": "ipython",
    "version": 3
   },
   "file_extension": ".py",
   "mimetype": "text/x-python",
   "name": "python",
   "nbconvert_exporter": "python",
   "pygments_lexer": "ipython3",
   "version": "3.9.7"
  },
  "orig_nbformat": 4
 },
 "nbformat": 4,
 "nbformat_minor": 2
}
